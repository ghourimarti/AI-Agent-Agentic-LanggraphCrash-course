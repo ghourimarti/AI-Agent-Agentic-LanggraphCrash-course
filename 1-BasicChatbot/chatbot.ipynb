{
 "cells": [
  {
   "cell_type": "markdown",
   "id": "7e06ee86",
   "metadata": {},
   "source": [
    "# **Build A Basic Chatbot With Langgraph(GRAPH API)**"
   ]
  },
  {
   "cell_type": "markdown",
   "id": "0a2083dd",
   "metadata": {},
   "source": [
    "## **1. Build Simple Chat bot**"
   ]
  },
  {
   "cell_type": "markdown",
   "id": "cb71defd",
   "metadata": {},
   "source": [
    "### 1. Install and Import"
   ]
  },
  {
   "cell_type": "code",
   "execution_count": 1,
   "id": "12cb63e2",
   "metadata": {},
   "outputs": [],
   "source": [
    "# !uv pip install typing_extensions\n",
    "# !uv pip install langgraph\n",
    "# !uv pip install langchain_tavily\n",
    "# !uv pip install langchain-groq\n",
    "# !uv pip install langsmith\n",
    "# !uv pip install python-dotenv\n"
   ]
  },
  {
   "cell_type": "code",
   "execution_count": 2,
   "id": "9055239a",
   "metadata": {},
   "outputs": [],
   "source": [
    "from typing import Annotated\n",
    "from typing_extensions import TypedDict\n",
    "from langgraph.graph import StateGraph,START,END\n",
    "from langgraph.graph.message import add_messages"
   ]
  },
  {
   "cell_type": "code",
   "execution_count": 3,
   "id": "7bccff49",
   "metadata": {},
   "outputs": [
    {
     "name": "stdout",
     "output_type": "stream",
     "text": [
      "Langchain Key:       lsv2_...\n",
      "openai_api_key Key:  sk-pr...\n",
      "tavily_api_key Key:  tvly-...\n",
      "groq_api_key Key:    gsk_J...\n"
     ]
    }
   ],
   "source": [
    "import os\n",
    "from dotenv import load_dotenv\n",
    "load_dotenv('token.env')  # path to your token.env file\n",
    "\n",
    "langchain_api_key = os.getenv(\"langchain_api_key\")\n",
    "openai_api_keys = os.getenv(\"openai_api_key\")\n",
    "tavily_api_key = os.getenv(\"tavily_api_key\")\n",
    "groq_api_key = os.getenv(\"groq_api_key\")\n",
    "print(\"Langchain Key:      \",langchain_api_key[:5] + \"...\" if langchain_api_key else \"key not found\")\n",
    "print(\"openai_api_key Key: \",openai_api_keys[:5] + \"...\" if openai_api_keys else \"key not found\")\n",
    "print(\"tavily_api_key Key: \",tavily_api_key[:5] + \"...\" if tavily_api_key else \"key not found\")\n",
    "print(\"groq_api_key Key:   \",groq_api_key[:5] + \"...\" if groq_api_key else \"key not found\")\n"
   ]
  },
  {
   "cell_type": "code",
   "execution_count": 4,
   "id": "1c10a236",
   "metadata": {},
   "outputs": [],
   "source": [
    "os.environ['LANGCHAIN_TRACING_V2'] = 'true'\n",
    "os.environ['LANGCHAIN_ENDPOINT'] = 'https://api.smith.langchain.com'\n",
    "os.environ['LANGCHAIN_API_KEY'] = langchain_api_key"
   ]
  },
  {
   "cell_type": "markdown",
   "id": "b6037a36",
   "metadata": {},
   "source": [
    "### 2. Add State"
   ]
  },
  {
   "cell_type": "code",
   "execution_count": 5,
   "id": "b393f690",
   "metadata": {},
   "outputs": [],
   "source": [
    "class State(TypedDict):\n",
    "    # Messages have the type \"list\". The `add_messages` function\n",
    "    # in the annotation defines how this state key should be updated\n",
    "    # (in this case, it appends messages to the list, rather than overwriting them)\n",
    "    messages:Annotated[list,add_messages]\n"
   ]
  },
  {
   "cell_type": "markdown",
   "id": "fb48161c",
   "metadata": {},
   "source": [
    "### 3. Define LLM and Initiliaze"
   ]
  },
  {
   "cell_type": "code",
   "execution_count": 6,
   "id": "0d18f35a",
   "metadata": {},
   "outputs": [
    {
     "data": {
      "text/plain": [
       "ChatGroq(client=<groq.resources.chat.completions.Completions object at 0x0000019897195310>, async_client=<groq.resources.chat.completions.AsyncCompletions object at 0x0000019897195D10>, model_name='llama3-8b-8192', model_kwargs={}, groq_api_key=SecretStr('**********'))"
      ]
     },
     "execution_count": 6,
     "metadata": {},
     "output_type": "execute_result"
    }
   ],
   "source": [
    "from langchain_groq import ChatGroq\n",
    "from langchain.chat_models import init_chat_model\n",
    "\n",
    "\n",
    "llm=ChatGroq(model=\"llama3-8b-8192\")\n",
    "\n",
    "llm=init_chat_model(\"groq:llama3-8b-8192\")\n",
    "llm\n"
   ]
  },
  {
   "cell_type": "markdown",
   "id": "bdf528ce",
   "metadata": {},
   "source": [
    "### 4. Chatbot"
   ]
  },
  {
   "cell_type": "code",
   "execution_count": 7,
   "id": "af50c0a6",
   "metadata": {},
   "outputs": [],
   "source": [
    "## Node Functionality\n",
    "def chatbot(state:State):\n",
    "    return {\"messages\":[llm.invoke(state[\"messages\"])]}"
   ]
  },
  {
   "cell_type": "markdown",
   "id": "ddf14ad1",
   "metadata": {},
   "source": [
    "### 5. Define Node "
   ]
  },
  {
   "cell_type": "code",
   "execution_count": 8,
   "id": "11b77875",
   "metadata": {},
   "outputs": [
    {
     "data": {
      "image/png": "[encoded data removed]",
      "text/plain": [
       "<langgraph.graph.state.CompiledStateGraph object at 0x0000019896FFBB60>"
      ]
     },
     "execution_count": 8,
     "metadata": {},
     "output_type": "execute_result"
    }
   ],
   "source": [
    "graph_builder=StateGraph(State)\n",
    "\n",
    "## Adding node\n",
    "graph_builder.add_node(\"llmchatbot\",chatbot)\n",
    "\n",
    "## Adding Edges\n",
    "graph_builder.add_edge(START,\"llmchatbot\")\n",
    "graph_builder.add_edge(\"llmchatbot\",END)\n",
    "\n",
    "## compile the graph\n",
    "graph=graph_builder.compile()\n",
    "graph"
   ]
  },
  {
   "cell_type": "code",
   "execution_count": 9,
   "id": "17b74dd8",
   "metadata": {},
   "outputs": [
    {
     "data": {
      "image/png": "[encoded data removed]",
      "text/plain": [
       "<IPython.core.display.Image object>"
      ]
     },
     "metadata": {},
     "output_type": "display_data"
    }
   ],
   "source": [
    "## Visualize the graph\n",
    "from IPython.display import Image,display\n",
    "\n",
    "try:\n",
    "    display(Image(graph.get_graph().draw_mermaid_png()))\n",
    "except Exception:\n",
    "    pass"
   ]
  },
  {
   "cell_type": "code",
   "execution_count": 10,
   "id": "1d91a7e9",
   "metadata": {},
   "outputs": [
    {
     "name": "stdout",
     "output_type": "stream",
     "text": [
      "[HumanMessage(content='Hi', additional_kwargs={}, response_metadata={}, id='4663d253-7009-4387-a796-075118e5a6c0'),\n",
      " AIMessage(content=\"Hi! It's nice to meet you. Is there something I can help you with, or would you like to chat?\", additional_kwargs={}, response_metadata={'token_usage': {'completion_tokens': 26, 'prompt_tokens': 11, 'total_tokens': 37, 'completion_time': 0.020514469, 'prompt_time': 0.001828671, 'queue_time': 0.221711188, 'total_time': 0.02234314}, 'model_name': 'llama3-8b-8192', 'system_fingerprint': 'fp_8b7c3a83f7', 'finish_reason': 'stop', 'logprobs': None}, id='run--e03e8f9c-bdec-468a-a816-e7db04f48c8a-0', usage_metadata={'input_tokens': 11, 'output_tokens': 26, 'total_tokens': 37})]\n"
     ]
    }
   ],
   "source": [
    "from pprint import pprint\n",
    "response=graph.invoke({\"messages\":\"Hi\"})\n",
    "pprint(response[\"messages\"])"
   ]
  },
  {
   "cell_type": "code",
   "execution_count": 11,
   "id": "323b71a2",
   "metadata": {},
   "outputs": [
    {
     "data": {
      "text/plain": [
       "\"Hi! It's nice to meet you. Is there something I can help you with, or would you like to chat?\""
      ]
     },
     "execution_count": 11,
     "metadata": {},
     "output_type": "execute_result"
    }
   ],
   "source": [
    "response[\"messages\"][-1].content"
   ]
  },
  {
   "cell_type": "code",
   "execution_count": 12,
   "id": "25caf1ec",
   "metadata": {},
   "outputs": [
    {
     "name": "stdout",
     "output_type": "stream",
     "text": [
      "{'llmchatbot': {'messages': [AIMessage(content=\"Hi! I'm just a language model, I don't have emotions or feelings like humans do, but I'm functioning properly and ready to assist you with any questions or tasks you may have. How can I help you today?\", additional_kwargs={}, response_metadata={'token_usage': {'completion_tokens': 47, 'prompt_tokens': 15, 'total_tokens': 62, 'completion_time': 0.037241309, 'prompt_time': 0.002955371, 'queue_time': 0.221349633, 'total_time': 0.04019668}, 'model_name': 'llama3-8b-8192', 'system_fingerprint': 'fp_2717d04279', 'finish_reason': 'stop', 'logprobs': None}, id='run--c2e758ff-a25b-4129-bb75-68087a805c6e-0', usage_metadata={'input_tokens': 15, 'output_tokens': 47, 'total_tokens': 62})]}}\n"
     ]
    }
   ],
   "source": [
    "for event in graph.stream({\"messages\":\"Hi How are you?\"}):\n",
    "    print(event)"
   ]
  },
  {
   "cell_type": "code",
   "execution_count": 13,
   "id": "bd9240e9",
   "metadata": {},
   "outputs": [
    {
     "name": "stdout",
     "output_type": "stream",
     "text": [
      "I'm just an AI, I don't have feelings like humans do, but I'm functioning properly and ready to help you with any questions or topics you'd like to discuss! How about you? How's your day going?\n"
     ]
    }
   ],
   "source": [
    "for event in graph.stream({\"messages\":\"Hi How are you?\"}):\n",
    "    for value in event.values():\n",
    "        print(value[\"messages\"][-1].content)"
   ]
  },
  {
   "cell_type": "markdown",
   "id": "a04b696d",
   "metadata": {},
   "source": [
    "### 6. Chatbot With Tool"
   ]
  },
  {
   "cell_type": "code",
   "execution_count": 14,
   "id": "447e146a",
   "metadata": {},
   "outputs": [
    {
     "data": {
      "text/plain": [
       "{'query': 'What is langgraph',\n",
       " 'follow_up_questions': None,\n",
       " 'answer': None,\n",
       " 'images': [],\n",
       " 'results': [{'url': 'https://www.datacamp.com/tutorial/langgraph-tutorial',\n",
       "   'title': 'What Is LangGraph and How to Use It? - DataCamp',\n",
       "   'content': 'LangGraph is a library within the LangChain ecosystem that provides a framework for defining, coordinating, and executing multiple LLM agents (or chains) in a structured and efficient manner. By managing the flow of data and the sequence of operations, LangGraph allows developers to focus on the high-level logic of their applications rather than the intricacies of agent coordination. Whether you need a chatbot that can handle various types of user requests or a multi-agent system that performs complex tasks, LangGraph provides the tools to build exactly what you need. LangGraph significantly simplifies the development of complex LLM applications by providing a structured framework for managing state and coordinating agent interactions.',\n",
       "   'score': 0.9475027,\n",
       "   'raw_content': None},\n",
       "  {'url': 'https://www.ibm.com/think/topics/langgraph',\n",
       "   'title': 'What is LangGraph? - IBM',\n",
       "   'content': 'LangGraph, created by LangChain, is an open source AI agent framework designed to build, deploy and manage complex generative AI agent workflows. At its core, LangGraph uses the power of graph-based architectures to model and manage the intricate relationships between various components of an AI agent workflow. LangGraph illuminates the processes within an AI workflow, allowing full transparency of the agent’s state. By combining these technologies with a set of APIs and tools, LangGraph provides users with a versatile platform for developing AI solutions and workflows including chatbots, state graphs and other agent-based systems. Nodes: In LangGraph, nodes represent individual components or agents within an AI workflow. LangGraph uses enhanced decision-making by modeling complex relationships between nodes, which means it uses AI agents to analyze their past actions and feedback.',\n",
       "   'score': 0.94401723,\n",
       "   'raw_content': None}],\n",
       " 'response_time': 1.29}"
      ]
     },
     "execution_count": 14,
     "metadata": {},
     "output_type": "execute_result"
    }
   ],
   "source": [
    "from langchain_tavily import TavilySearch\n",
    "\n",
    "tool=TavilySearch(max_results=2)\n",
    "tool.invoke(\"What is langgraph\")"
   ]
  },
  {
   "cell_type": "code",
   "execution_count": 15,
   "id": "cd185da9",
   "metadata": {},
   "outputs": [
    {
     "data": {
      "text/plain": [
       "RunnableBinding(bound=ChatGroq(client=<groq.resources.chat.completions.Completions object at 0x0000019897195310>, async_client=<groq.resources.chat.completions.AsyncCompletions object at 0x0000019897195D10>, model_name='llama3-8b-8192', model_kwargs={}, groq_api_key=SecretStr('**********')), kwargs={'tools': [{'type': 'function', 'function': {'name': 'tavily_search', 'description': 'A search engine optimized for comprehensive, accurate, and trusted results. Useful for when you need to answer questions about current events. It not only retrieves URLs and snippets, but offers advanced search depths, domain management, time range filters, and image search, this tool delivers real-time, accurate, and citation-backed results.Input should be a search query.', 'parameters': {'properties': {'query': {'description': 'Search query to look up', 'type': 'string'}, 'include_domains': {'anyOf': [{'items': {'type': 'string'}, 'type': 'array'}, {'type': 'null'}], 'default': [], 'description': 'A list of domains to restrict search results to.\\n\\n        Use this parameter when:\\n        1. The user explicitly requests information from specific websites (e.g., \"Find climate data from nasa.gov\")\\n        2. The user mentions an organization or company without specifying the domain (e.g., \"Find information about iPhones from Apple\")\\n\\n        In both cases, you should determine the appropriate domains (e.g., [\"nasa.gov\"] or [\"apple.com\"]) and set this parameter.\\n\\n        Results will ONLY come from the specified domains - no other sources will be included.\\n        Default is None (no domain restriction).\\n        '}, 'exclude_domains': {'anyOf': [{'items': {'type': 'string'}, 'type': 'array'}, {'type': 'null'}], 'default': [], 'description': 'A list of domains to exclude from search results.\\n\\n        Use this parameter when:\\n        1. The user explicitly requests to avoid certain websites (e.g., \"Find information about climate change but not from twitter.com\")\\n        2. The user mentions not wanting results from specific organizations without naming the domain (e.g., \"Find phone reviews but nothing from Apple\")\\n\\n        In both cases, you should determine the appropriate domains to exclude (e.g., [\"twitter.com\"] or [\"apple.com\"]) and set this parameter.\\n\\n        Results will filter out all content from the specified domains.\\n        Default is None (no domain exclusion).\\n        '}, 'search_depth': {'anyOf': [{'enum': ['basic', 'advanced'], 'type': 'string'}, {'type': 'null'}], 'default': 'basic', 'description': 'Controls search thoroughness and result comprehensiveness.\\n    \\n        Use \"basic\" for simple queries requiring quick, straightforward answers.\\n        \\n        Use \"advanced\" (default) for complex queries, specialized topics, \\n        rare information, or when in-depth analysis is needed.\\n        '}, 'include_images': {'anyOf': [{'type': 'boolean'}, {'type': 'null'}], 'default': False, 'description': 'Determines if the search returns relevant images along with text results.\\n   \\n        Set to True when the user explicitly requests visuals or when images would \\n        significantly enhance understanding (e.g., \"Show me what black holes look like,\" \\n        \"Find pictures of Renaissance art\").\\n        \\n        Leave as False (default) for most informational queries where text is sufficient.\\n        '}, 'time_range': {'anyOf': [{'enum': ['day', 'week', 'month', 'year'], 'type': 'string'}, {'type': 'null'}], 'default': None, 'description': 'Limits results to content published within a specific timeframe.\\n        \\n        ONLY set this when the user explicitly mentions a time period \\n        (e.g., \"latest AI news,\" \"articles from last week\").\\n        \\n        For less popular or niche topics, use broader time ranges \\n        (\"month\" or \"year\") to ensure sufficient relevant results.\\n   \\n        Options: \"day\" (24h), \"week\" (7d), \"month\" (30d), \"year\" (365d).\\n        \\n        Default is None.\\n        '}, 'topic': {'anyOf': [{'enum': ['general', 'news', 'finance'], 'type': 'string'}, {'type': 'null'}], 'default': 'general', 'description': 'Specifies search category for optimized results.\\n   \\n        Use \"general\" (default) for most queries, INCLUDING those with terms like \\n        \"latest,\" \"newest,\" or \"recent\" when referring to general information.\\n\\n        Use \"finance\" for markets, investments, economic data, or financial news.\\n\\n        Use \"news\" ONLY for politics, sports, or major current events covered by \\n        mainstream media - NOT simply because a query asks for \"new\" information.\\n        '}}, 'required': ['query'], 'type': 'object'}}}, {'type': 'function', 'function': {'name': 'multiply', 'description': 'Multiply a and b', 'parameters': {'properties': {'a': {'description': 'first int', 'type': 'integer'}, 'b': {'description': 'second int', 'type': 'integer'}}, 'required': ['a', 'b'], 'type': 'object'}}}]}, config={}, config_factories=[])"
      ]
     },
     "execution_count": 15,
     "metadata": {},
     "output_type": "execute_result"
    }
   ],
   "source": [
    "## Custom function\n",
    "def multiply(a:int,b:int)->int:\n",
    "    \"\"\"Multiply a and b\n",
    "\n",
    "    Args:\n",
    "        a (int): first int\n",
    "        b (int): second int\n",
    "\n",
    "    Returns:\n",
    "        int: output int\n",
    "    \"\"\"\n",
    "    return a*b\n",
    "\n",
    "\n",
    "\n",
    "def my_info():\n",
    "    \"\"\"\n",
    "    If some one ask my name than tell my name\n",
    "    Return my info\n",
    "    \n",
    "    \"\"\"\n",
    "    return \"I am a Zain chatbot created by Langgraph\"\n",
    "\n",
    "\n",
    "\n",
    "# tools=[tool , multiply , my_info]\n",
    "tools=[tool , multiply]\n",
    "llm_with_tool = llm.bind_tools(tools)\n",
    "llm_with_tool"
   ]
  },
  {
   "cell_type": "code",
   "execution_count": 16,
   "id": "550d837b",
   "metadata": {},
   "outputs": [
    {
     "data": {
      "image/png": "[encoded data removed]",
      "text/plain": [
       "<langgraph.graph.state.CompiledStateGraph object at 0x00000198A673DF90>"
      ]
     },
     "execution_count": 16,
     "metadata": {},
     "output_type": "execute_result"
    }
   ],
   "source": [
    "## Stategraph\n",
    "from langgraph.graph import StateGraph,START,END\n",
    "from langgraph.prebuilt import ToolNode\n",
    "from langgraph.prebuilt import tools_condition\n",
    "\n",
    "\n",
    "## Node definition\n",
    "def tool_calling_llm(state:State):\n",
    "    return {\"messages\":[llm_with_tool.invoke(state[\"messages\"])]}\n",
    "\n",
    "\n",
    "## Grpah\n",
    "builder = StateGraph(State)\n",
    "\n",
    "# Add nodes\n",
    "builder.add_node(\"tool_calling_llm\" , tool_calling_llm)\n",
    "builder.add_node(\"tools\" , ToolNode(tools))\n",
    "\n",
    "\n",
    "## Add Edges\n",
    "builder.add_edge(START, \"tool_calling_llm\")\n",
    "builder.add_conditional_edges(\n",
    "    \"tool_calling_llm\",\n",
    "    # If the latest message (result) from assistant is a tool call -> tools_condition routes to tools\n",
    "    # If the latest message (result) from assistant is a not a tool call -> tools_condition routes to END\n",
    "    tools_condition\n",
    ")\n",
    "builder.add_edge(\"tools\",END)\n",
    "\n",
    "\n",
    "## compile the graph\n",
    "graph = builder.compile()\n",
    "graph\n",
    "\n",
    "# from IPython.display import Image, display\n",
    "# display(Image(graph.get_graph().draw_mermaid_png()))\n"
   ]
  },
  {
   "cell_type": "code",
   "execution_count": 17,
   "id": "d802d254",
   "metadata": {},
   "outputs": [
    {
     "data": {
      "text/plain": [
       "{'messages': [HumanMessage(content='What is recent AI news?', additional_kwargs={}, response_metadata={}, id='7603d6a4-519d-44fa-8f3b-b77282795d10'),\n",
       "  AIMessage(content='', additional_kwargs={'tool_calls': [{'id': '21yecakcz', 'function': {'arguments': '{\"a\":null,\"b\":null,\"exclude_domains\":[],\"include_domains\":[],\"include_images\":true,\"query\":\"recent AI news\",\"search_depth\":\"advanced\",\"time_range\":\"day\",\"topic\":\"general\"}', 'name': 'tavily_search'}, 'type': 'function'}]}, response_metadata={'token_usage': {'completion_tokens': 124, 'prompt_tokens': 2194, 'total_tokens': 2318, 'completion_time': 0.098354817, 'prompt_time': 0.242717628, 'queue_time': 0.22365103100000003, 'total_time': 0.341072445}, 'model_name': 'llama3-8b-8192', 'system_fingerprint': 'fp_8b7c3a83f7', 'finish_reason': 'tool_calls', 'logprobs': None}, id='run--4543bacf-61ef-4f45-acb5-eff01bd81778-0', tool_calls=[{'name': 'tavily_search', 'args': {'a': None, 'b': None, 'exclude_domains': [], 'include_domains': [], 'include_images': True, 'query': 'recent AI news', 'search_depth': 'advanced', 'time_range': 'day', 'topic': 'general'}, 'id': '21yecakcz', 'type': 'tool_call'}], usage_metadata={'input_tokens': 2194, 'output_tokens': 124, 'total_tokens': 2318}),\n",
       "  ToolMessage(content='{\"query\": \"recent AI news\", \"follow_up_questions\": null, \"answer\": null, \"images\": [\"https://datasciencedojo.com/wp-content/uploads/emerging-AI-and-machine-learning-trends.png\", \"https://moonpreneur.com/blog/wp-content/uploads/2023/03/5-latest-developments-in-ai.png\", \"https://autogpt.net/wp-content/uploads/2023/07/Pogla_Explore_the_latest_AI_news_from_groundbreaking_drug_trial_07ab875d-1e11-42d5-89ef-39ff3d5ab451.jpg\", \"https://www.managedoutsource.com/wp-content/uploads/2020/04/top-artificial-intelligence-ai-trends-to-watch-for-in-2020.jpg\", \"https://i.ytimg.com/vi/DRJeOrfFlh0/maxresdefault.jpg\"], \"results\": [{\"url\": \"https://www.ptechpartners.com/2025/07/01/emerging-ai-news-roundup-for-may-and-june-2025-part-1-ai-agents-jobs-impact-and-the-return-of-the-surge/\", \"title\": \"Emerging AI News Roundup for May and June 2025 Part 1\", \"content\": \"Explore the biggest AI news from May and June 2025, including breakthroughs in AI agents, the evolving impact on jobs, and a renewed surge in AI innovation.\", \"score\": 0.7837407, \"raw_content\": null}, {\"url\": \"https://www.prnewswire.com/news-releases/createai-advances-generative-ai-technology-with-two-papers-accepted-at-prestigious-iccv-2025-302495626.html\", \"title\": \"CreateAI Advances Generative AI Technology with Two Papers ...\", \"content\": \"## News provided by\\\\n\\\\nJul 01, 2025, 21:00 ET\\\\n\\\\n## Share this article\\\\n\\\\nShare this article\\\\n\\\\nSAN DIEGO and BEIJING, July 1, 2025 /PRNewswire/ -- CreateAI Holdings (\\\\\"CreateAI\\\\\" or the \\\\\"Company\\\\\") (OTC: TSPH), a leader in artificial intelligence technology, today announced the acceptance of two groundbreaking research papers at the 20th International Conference on Computer Vision (ICCV 2025), one of the world\\'s top computer vision conferences. [...] CreateAI (OTCMKTS: TSPH) (\\\\\"CreateAI\\\\\" or the \\\\\"Company\\\\\"), a global artificial intelligence company, today announced that it is has been selected as...\\\\n\\\\n### Pro Anime AI Video Generation Platform Animon.ai Launches in Korea\\\\n\\\\nCreateAI Holdings (\\\\\"CreateAI\\\\\" or the \\\\\"Company\\\\\") today announced market entry in Korea and significant updates to its groundbreaking AI anime video...\\\\n\\\\n## Explore\\\\n\\\\nArtificial Intelligence\\\\n\\\\nArtificial Intelligence\\\\n\\\\nComputer & Electronics\\\\n\\\\nComputer & Electronics [...] \\\\\"The acceptance of these papers is a significant affirmation of CreateAI\\'s technological innovation,\\\\\" said Cheng Lu, President and CEO of CreateAI. \\\\\"We firmly believe that the value of AI lies in addressing real-world creative challenges. The breakthroughs in LayerAnimate and CycleVAR essentially provide the animation industry with dual tools for \\'precise control\\' and \\'efficient transformation.\\'\\\\\"\", \"score\": 0.70726365, \"raw_content\": null}], \"response_time\": 2.42}', name='tavily_search', id='e6d574a0-0a39-4c15-9f4e-82c4d4d54297', tool_call_id='21yecakcz')]}"
      ]
     },
     "execution_count": 17,
     "metadata": {},
     "output_type": "execute_result"
    }
   ],
   "source": [
    "question = \"What is recent AI news?\"\n",
    "# question = \"Who is the president of USA?\"\n",
    "response=graph.invoke({\"messages\":question})\n",
    "response"
   ]
  },
  {
   "cell_type": "code",
   "execution_count": 18,
   "id": "2914f2dd",
   "metadata": {},
   "outputs": [
    {
     "data": {
      "text/plain": [
       "'{\"query\": \"recent AI news\", \"follow_up_questions\": null, \"answer\": null, \"images\": [\"https://datasciencedojo.com/wp-content/uploads/emerging-AI-and-machine-learning-trends.png\", \"https://moonpreneur.com/blog/wp-content/uploads/2023/03/5-latest-developments-in-ai.png\", \"https://autogpt.net/wp-content/uploads/2023/07/Pogla_Explore_the_latest_AI_news_from_groundbreaking_drug_trial_07ab875d-1e11-42d5-89ef-39ff3d5ab451.jpg\", \"https://www.managedoutsource.com/wp-content/uploads/2020/04/top-artificial-intelligence-ai-trends-to-watch-for-in-2020.jpg\", \"https://i.ytimg.com/vi/DRJeOrfFlh0/maxresdefault.jpg\"], \"results\": [{\"url\": \"https://www.ptechpartners.com/2025/07/01/emerging-ai-news-roundup-for-may-and-june-2025-part-1-ai-agents-jobs-impact-and-the-return-of-the-surge/\", \"title\": \"Emerging AI News Roundup for May and June 2025 Part 1\", \"content\": \"Explore the biggest AI news from May and June 2025, including breakthroughs in AI agents, the evolving impact on jobs, and a renewed surge in AI innovation.\", \"score\": 0.7837407, \"raw_content\": null}, {\"url\": \"https://www.prnewswire.com/news-releases/createai-advances-generative-ai-technology-with-two-papers-accepted-at-prestigious-iccv-2025-302495626.html\", \"title\": \"CreateAI Advances Generative AI Technology with Two Papers ...\", \"content\": \"## News provided by\\\\n\\\\nJul 01, 2025, 21:00 ET\\\\n\\\\n## Share this article\\\\n\\\\nShare this article\\\\n\\\\nSAN DIEGO and BEIJING, July 1, 2025 /PRNewswire/ -- CreateAI Holdings (\\\\\"CreateAI\\\\\" or the \\\\\"Company\\\\\") (OTC: TSPH), a leader in artificial intelligence technology, today announced the acceptance of two groundbreaking research papers at the 20th International Conference on Computer Vision (ICCV 2025), one of the world\\'s top computer vision conferences. [...] CreateAI (OTCMKTS: TSPH) (\\\\\"CreateAI\\\\\" or the \\\\\"Company\\\\\"), a global artificial intelligence company, today announced that it is has been selected as...\\\\n\\\\n### Pro Anime AI Video Generation Platform Animon.ai Launches in Korea\\\\n\\\\nCreateAI Holdings (\\\\\"CreateAI\\\\\" or the \\\\\"Company\\\\\") today announced market entry in Korea and significant updates to its groundbreaking AI anime video...\\\\n\\\\n## Explore\\\\n\\\\nArtificial Intelligence\\\\n\\\\nArtificial Intelligence\\\\n\\\\nComputer & Electronics\\\\n\\\\nComputer & Electronics [...] \\\\\"The acceptance of these papers is a significant affirmation of CreateAI\\'s technological innovation,\\\\\" said Cheng Lu, President and CEO of CreateAI. \\\\\"We firmly believe that the value of AI lies in addressing real-world creative challenges. The breakthroughs in LayerAnimate and CycleVAR essentially provide the animation industry with dual tools for \\'precise control\\' and \\'efficient transformation.\\'\\\\\"\", \"score\": 0.70726365, \"raw_content\": null}], \"response_time\": 2.42}'"
      ]
     },
     "execution_count": 18,
     "metadata": {},
     "output_type": "execute_result"
    }
   ],
   "source": [
    "response['messages'][-1].content"
   ]
  },
  {
   "cell_type": "code",
   "execution_count": 19,
   "id": "8051ed54",
   "metadata": {},
   "outputs": [
    {
     "name": "stdout",
     "output_type": "stream",
     "text": [
      "================================\u001b[1m Human Message \u001b[0m=================================\n",
      "\n",
      "What is recent AI news?\n",
      "==================================\u001b[1m Ai Message \u001b[0m==================================\n",
      "Tool Calls:\n",
      "  tavily_search (21yecakcz)\n",
      " Call ID: 21yecakcz\n",
      "  Args:\n",
      "    a: None\n",
      "    b: None\n",
      "    exclude_domains: []\n",
      "    include_domains: []\n",
      "    include_images: True\n",
      "    query: recent AI news\n",
      "    search_depth: advanced\n",
      "    time_range: day\n",
      "    topic: general\n",
      "=================================\u001b[1m Tool Message \u001b[0m=================================\n",
      "Name: tavily_search\n",
      "\n",
      "{\"query\": \"recent AI news\", \"follow_up_questions\": null, \"answer\": null, \"images\": [\"https://datasciencedojo.com/wp-content/uploads/emerging-AI-and-machine-learning-trends.png\", \"https://moonpreneur.com/blog/wp-content/uploads/2023/03/5-latest-developments-in-ai.png\", \"https://autogpt.net/wp-content/uploads/2023/07/Pogla_Explore_the_latest_AI_news_from_groundbreaking_drug_trial_07ab875d-1e11-42d5-89ef-39ff3d5ab451.jpg\", \"https://www.managedoutsource.com/wp-content/uploads/2020/04/top-artificial-intelligence-ai-trends-to-watch-for-in-2020.jpg\", \"https://i.ytimg.com/vi/DRJeOrfFlh0/maxresdefault.jpg\"], \"results\": [{\"url\": \"https://www.ptechpartners.com/2025/07/01/emerging-ai-news-roundup-for-may-and-june-2025-part-1-ai-agents-jobs-impact-and-the-return-of-the-surge/\", \"title\": \"Emerging AI News Roundup for May and June 2025 Part 1\", \"content\": \"Explore the biggest AI news from May and June 2025, including breakthroughs in AI agents, the evolving impact on jobs, and a renewed surge in AI innovation.\", \"score\": 0.7837407, \"raw_content\": null}, {\"url\": \"https://www.prnewswire.com/news-releases/createai-advances-generative-ai-technology-with-two-papers-accepted-at-prestigious-iccv-2025-302495626.html\", \"title\": \"CreateAI Advances Generative AI Technology with Two Papers ...\", \"content\": \"## News provided by\\n\\nJul 01, 2025, 21:00 ET\\n\\n## Share this article\\n\\nShare this article\\n\\nSAN DIEGO and BEIJING, July 1, 2025 /PRNewswire/ -- CreateAI Holdings (\\\"CreateAI\\\" or the \\\"Company\\\") (OTC: TSPH), a leader in artificial intelligence technology, today announced the acceptance of two groundbreaking research papers at the 20th International Conference on Computer Vision (ICCV 2025), one of the world's top computer vision conferences. [...] CreateAI (OTCMKTS: TSPH) (\\\"CreateAI\\\" or the \\\"Company\\\"), a global artificial intelligence company, today announced that it is has been selected as...\\n\\n### Pro Anime AI Video Generation Platform Animon.ai Launches in Korea\\n\\nCreateAI Holdings (\\\"CreateAI\\\" or the \\\"Company\\\") today announced market entry in Korea and significant updates to its groundbreaking AI anime video...\\n\\n## Explore\\n\\nArtificial Intelligence\\n\\nArtificial Intelligence\\n\\nComputer & Electronics\\n\\nComputer & Electronics [...] \\\"The acceptance of these papers is a significant affirmation of CreateAI's technological innovation,\\\" said Cheng Lu, President and CEO of CreateAI. \\\"We firmly believe that the value of AI lies in addressing real-world creative challenges. The breakthroughs in LayerAnimate and CycleVAR essentially provide the animation industry with dual tools for 'precise control' and 'efficient transformation.'\\\"\", \"score\": 0.70726365, \"raw_content\": null}], \"response_time\": 2.42}\n"
     ]
    }
   ],
   "source": [
    "for m in response['messages']:\n",
    "    m.pretty_print()"
   ]
  },
  {
   "cell_type": "code",
   "execution_count": 20,
   "id": "36f8fb4e",
   "metadata": {},
   "outputs": [
    {
     "name": "stdout",
     "output_type": "stream",
     "text": [
      "================================\u001b[1m Human Message \u001b[0m=================================\n",
      "\n",
      "What is 5 multiplied by 2\n",
      "==================================\u001b[1m Ai Message \u001b[0m==================================\n",
      "Tool Calls:\n",
      "  multiply (peegdstfg)\n",
      " Call ID: peegdstfg\n",
      "  Args:\n",
      "    a: 5\n",
      "    b: 2\n",
      "=================================\u001b[1m Tool Message \u001b[0m=================================\n",
      "Name: multiply\n",
      "\n",
      "10\n"
     ]
    }
   ],
   "source": [
    "response=graph.invoke({\"messages\":\"What is 5 multiplied by 2\"})\n",
    "for m in response['messages']:\n",
    "    m.pretty_print()\n"
   ]
  },
  {
   "cell_type": "code",
   "execution_count": 21,
   "id": "adb7c3fd",
   "metadata": {},
   "outputs": [
    {
     "name": "stdout",
     "output_type": "stream",
     "text": [
      "================================\u001b[1m Human Message \u001b[0m=================================\n",
      "\n",
      "Give me the recent ai news and then multiply 5 by 10\n",
      "==================================\u001b[1m Ai Message \u001b[0m==================================\n",
      "Tool Calls:\n",
      "  tavily_search (2n1tqvqcv)\n",
      " Call ID: 2n1tqvqcv\n",
      "  Args:\n",
      "    query: recent ai news\n",
      "    search_depth: advanced\n",
      "    time_range: day\n",
      "    topic: news\n",
      "=================================\u001b[1m Tool Message \u001b[0m=================================\n",
      "Name: tavily_search\n",
      "\n",
      "{\"query\": \"recent ai news\", \"follow_up_questions\": null, \"answer\": null, \"images\": [], \"results\": [{\"url\": \"https://techcrunch.com/2025/07/01/xai-raises-10b-in-debt-and-equity/\", \"title\": \"xAI raises $10B in debt and equity - TechCrunch\", \"score\": 0.7123327, \"published_date\": \"Tue, 01 Jul 2025 12:35:54 GMT\", \"content\": \"Sean O'Kane\\n\\n 4 days ago\\n\\n   \\nImage 8: Tesla illustration logo\\n\\nTransportation \\n### Elon Musk reportedly fires Tesla’s top sales exec\\n\\n       Sean O'Kane\\n\\n Jun 26, 2025\\n\\nLatest in AI\\n------------\\n\\nSee More\\n\\n   \\nImage 9: Genesis AI\\n\\nRobotics \\n### Genesis AI launches with $105M seed funding from Eclipse, Khosla to build AI models for robots\\n\\n       Marina Temkin\\n\\n 10 minutes ago\\n\\n   \\nImage 10: The xAI logo displayed on a smartphone screen.\\n\\nIn Brief \\n### xAI raises $10B in debt and equity\", \"raw_content\": null}, {\"url\": \"https://www.telecoms.com/ai/eu-swamped-by-76-ai-gigafactory-bidders\", \"title\": \"EU swamped by 76 AI gigafactory bidders - Telecoms.com\", \"score\": 0.6847074, \"published_date\": \"Tue, 01 Jul 2025 14:10:46 GMT\", \"content\": \"Ericsson rolls out first export-ready antennas made in IndiaEricsson rolls out first export-ready antennas made in India\\n\\nbyAndrew Wooden\\n\\nJul 1, 2025\\n\\n2 Min Read\\n\\n   AI\\n   News\\n\\nEU swamped by 76 AI gigafactory bidders\\n=======================================\\n\\nThe EU's dream of competing on the world stage when it comes to AI infrastructure appears to have attracted plenty of interest.\\n\\nImage 21: Picture of Nick Wood\\n\\nNick Wood, Freelance writer\\nJuly 1, 2025\\n\\n2 Min Read\\n\\nImage 22 [...] Openreach expands full fibre rollout to 21 more locationsOpenreach expands full fibre rollout to 21 more locations\\n\\nbyArmita Satari\\n\\nJul 1, 2025\\n\\n2 Min Read\\n\\nSoftware\\n\\n#### Related Topics\\n\\n   OSS/BSS/CX\\n   Security\\n\\n   Automation\\n\\n#### Recent inSoftware\\n\\nSee All\\n\\nthumbnailImage 11AI\\n\\nGermany joins US in cracking down on DeepSeekGermany joins US in cracking down on DeepSeek\\n\\nbyNick Wood\\n\\nJun 30, 2025\\n\\n2 Min Read\\n\\nthumbnailImage 12Operator Ecosystem [...] Ergo, according to Reuters, each gigafactory will be equipped with around 100,000 state-of-the-art AI chips.\\n\\nPresumably that's good news for the likes of Nvidia, which has worked hard these recent years to embed its semiconductors at the very heart of the AI infrastructure ecosystem.\\n\\nRelated:Bridging the services revenue gap with AI and cloud-driven solutions\\n\\nThat it is a US-based company will probably not be at the top of the announcement when the EU starts writing the cheques.\\n\\n\\n\\nAI\", \"raw_content\": null}], \"response_time\": 3.16}\n"
     ]
    }
   ],
   "source": [
    "response=graph.invoke({\"messages\":\"Give me the recent ai news and then multiply 5 by 10\"})\n",
    "for m in response['messages']:\n",
    "    m.pretty_print()"
   ]
  },
  {
   "cell_type": "markdown",
   "id": "28fd11d4",
   "metadata": {},
   "source": [
    "## 2. ReAct Agent Architecture"
   ]
  },
  {
   "cell_type": "code",
   "execution_count": 22,
   "id": "8676799c",
   "metadata": {},
   "outputs": [
    {
     "data": {
      "image/png": "[encoded data removed]",
      "text/plain": [
       "<IPython.core.display.Image object>"
      ]
     },
     "metadata": {},
     "output_type": "display_data"
    }
   ],
   "source": [
    "## Stategraph\n",
    "from langgraph.graph import StateGraph,START,END\n",
    "from langgraph.prebuilt import ToolNode\n",
    "from langgraph.prebuilt import tools_condition\n",
    "\n",
    "\n",
    "## Node definition\n",
    "def tool_calling_llm(state:State):\n",
    "    return {\"messages\":[llm_with_tool.invoke(state[\"messages\"])]}\n",
    "\n",
    "\n",
    "## Grpah\n",
    "builder=StateGraph(State)\n",
    "\n",
    "\n",
    "# Add nodes\n",
    "builder.add_node(\"tool_calling_llm\",tool_calling_llm)\n",
    "builder.add_node(\"tools\",ToolNode(tools))\n",
    "\n",
    "\n",
    "## Add Edges\n",
    "builder.add_edge(START, \"tool_calling_llm\")\n",
    "builder.add_conditional_edges(\n",
    "    \"tool_calling_llm\",\n",
    "    # If the latest message (result) from assistant is a tool call -> tools_condition routes to tools\n",
    "    # If the latest message (result) from assistant is a not a tool call -> tools_condition routes to END\n",
    "    tools_condition\n",
    ")\n",
    "builder.add_edge(\"tools\",\"tool_calling_llm\")\n",
    "\n",
    "\n",
    "## compile the graph\n",
    "graph=builder.compile()\n",
    "\n",
    "from IPython.display import Image, display\n",
    "display(Image(graph.get_graph().draw_mermaid_png()))"
   ]
  },
  {
   "cell_type": "code",
   "execution_count": 23,
   "id": "9749684a",
   "metadata": {},
   "outputs": [
    {
     "name": "stdout",
     "output_type": "stream",
     "text": [
      "================================\u001b[1m Human Message \u001b[0m=================================\n",
      "\n",
      "Give me the recent ai news and then multiply 5 by 10\n",
      "==================================\u001b[1m Ai Message \u001b[0m==================================\n",
      "Tool Calls:\n",
      "  tavily_search (kbrhxye1n)\n",
      " Call ID: kbrhxye1n\n",
      "  Args:\n",
      "    query: recent ai news\n",
      "    search_depth: advanced\n",
      "    topic: news\n",
      "  multiply (05azka49z)\n",
      " Call ID: 05azka49z\n",
      "  Args:\n",
      "    a: 5\n",
      "    b: 10\n",
      "=================================\u001b[1m Tool Message \u001b[0m=================================\n",
      "Name: tavily_search\n",
      "\n",
      "{\"query\": \"recent ai news\", \"follow_up_questions\": null, \"answer\": null, \"images\": [], \"results\": [{\"url\": \"https://www.newsweek.com/nw-ai/ai-impact-awards-2025-science-engineering-2084754\", \"title\": \"AI Impact Awards 2025: The Changing Human Role in Science and Engineering - Newsweek\", \"score\": 0.7318455, \"published_date\": \"Wed, 25 Jun 2025 10:02:01 GMT\", \"content\": \"Newsweek _\\\\_will continue the conversation on meaningful AI innovations at our AI Impact Summit from June 23 to 25 in Sonoma, California. Click here to follow along on the live blog.\\\\__\\n\\nRequest Reprint & LicensingSubmit CorrectionView Editorial Guidelines\\n\\nSHARE:xfacebooklinkedinredditemailwhatsappCopy & Share\\n\\n✓ Link copied to clipboard!\\n\\nThe Latest in AI\\n----------------\\n\\nNEWSWEEK.AI\\n\\n06.09.25\\n\\n### Generative AI's Mission to Explore Strange New Worlds [...] ### AI Will Connect Mercedes-Benz Places Residents to the World\\n\\nThe new Miami condo complex will have state-of-the-art technology.\\n\\nArtificial Intelligence Miami\\n\\nNEWS\\n\\n06.04.25\\n\\n### Reddit Sues AI Provider for Breach of Contract\\n\\nThe AI start up Anthropic has allegedly engaged in \\\"unlawful and unfair business acts.\\\"\\n\\nReddit AI\\n\\nTECHNOLOGY\\n\\n06.02.25\\n\\n### Could AI Save Small Businesses? Mindbody Makes a Case to Wellness Brands [...] CloudBees also recently introduced its newest tool: Unify. It centralizes control across all major CI/CD tools to unify analytics, standardize governance and secure workflows without switching costs, according to the website.\", \"raw_content\": null}, {\"url\": \"https://yourstory.com/2025/06/workforce-needs-technical-skills\", \"title\": \"The AI Revolution: Why tomorrow's workforce needs more than technical skills - YourStory.com\", \"score\": 0.7140107, \"published_date\": \"Mon, 30 Jun 2025 11:22:21 GMT\", \"content\": \"June 26, 2025, 11 min Read Image 26\\\")ys-in-depth ### Adda Education gives skilling a big push as it looks beyond test-prep June 26, 2025, 11 min Read Image 27events ### Don’t fear AI; it will soon be part of everything you do: Dell Technologies’ Vivekanandh NR on building an AI-first mindset June 25, 2025, 5 min Read Image 28herstoryys-report ### Women engineering students show growing interest in AI/ML careers: Report June 24, 2025, 3 min Read Image 29\", \"raw_content\": null}], \"response_time\": 1.33}\n",
      "=================================\u001b[1m Tool Message \u001b[0m=================================\n",
      "Name: multiply\n",
      "\n",
      "50\n",
      "==================================\u001b[1m Ai Message \u001b[0m==================================\n",
      "\n",
      "<tool-use>{\"tool_calls\":[]}</tool-use>\n"
     ]
    }
   ],
   "source": [
    "response=graph.invoke({\"messages\":\"Give me the recent ai news and then multiply 5 by 10\"})\n",
    "for m in response['messages']:\n",
    "    m.pretty_print()"
   ]
  },
  {
   "cell_type": "markdown",
   "id": "3fb80059",
   "metadata": {},
   "source": [
    "## **2. Adding Memory In Agentic Graph**"
   ]
  },
  {
   "cell_type": "code",
   "execution_count": 24,
   "id": "0249955f",
   "metadata": {},
   "outputs": [
    {
     "name": "stdout",
     "output_type": "stream",
     "text": [
      "================================\u001b[1m Human Message \u001b[0m=================================\n",
      "\n",
      "Hello my name is KRish\n",
      "==================================\u001b[1m Ai Message \u001b[0m==================================\n",
      "\n",
      "Nice to meet you, KRish!\n"
     ]
    }
   ],
   "source": [
    "response=graph.invoke({\"messages\":\"Hello my name is KRish\"})\n",
    "for m in response['messages']:\n",
    "    m.pretty_print()"
   ]
  },
  {
   "cell_type": "code",
   "execution_count": 25,
   "id": "e852099b",
   "metadata": {},
   "outputs": [
    {
     "name": "stdout",
     "output_type": "stream",
     "text": [
      "================================\u001b[1m Human Message \u001b[0m=================================\n",
      "\n",
      "What is my name\n",
      "==================================\u001b[1m Ai Message \u001b[0m==================================\n",
      "\n",
      "I apologize, but I don't have any information about your name.\n"
     ]
    }
   ],
   "source": [
    "response=graph.invoke({\"messages\":\"What is my name\"})\n",
    "for m in response['messages']:\n",
    "    m.pretty_print()"
   ]
  },
  {
   "cell_type": "code",
   "execution_count": 26,
   "id": "4bf6c416",
   "metadata": {},
   "outputs": [
    {
     "data": {
      "image/png": "[encoded data removed]",
      "text/plain": [
       "<IPython.core.display.Image object>"
      ]
     },
     "metadata": {},
     "output_type": "display_data"
    }
   ],
   "source": [
    "## Stategraph\n",
    "from langgraph.graph import StateGraph,START,END\n",
    "from langgraph.prebuilt import ToolNode\n",
    "from langgraph.prebuilt import tools_condition\n",
    "from langgraph.checkpoint.memory import MemorySaver\n",
    "\n",
    "\n",
    "memory = MemorySaver()\n",
    "\n",
    "\n",
    "## Node definition\n",
    "def tool_calling_llm(state:State):\n",
    "    return {\"messages\":[llm_with_tool.invoke(state[\"messages\"])]}\n",
    "\n",
    "\n",
    "## Grpah\n",
    "builder=StateGraph(State)\n",
    "\n",
    "\n",
    "# Add nodes\n",
    "builder.add_node(\"tool_calling_llm\",tool_calling_llm)\n",
    "builder.add_node(\"tools\",ToolNode(tools))\n",
    "\n",
    "\n",
    "## Add Edges\n",
    "builder.add_edge(START, \"tool_calling_llm\")\n",
    "builder.add_conditional_edges(\n",
    "    \"tool_calling_llm\",\n",
    "    # If the latest message (result) from assistant is a tool call -> tools_condition routes to tools\n",
    "    # If the latest message (result) from assistant is a not a tool call -> tools_condition routes to END\n",
    "    tools_condition\n",
    ")\n",
    "builder.add_edge(\"tools\",\"tool_calling_llm\")\n",
    "\n",
    "\n",
    "## compile the graph\n",
    "graph=builder.compile(checkpointer=memory)\n",
    "\n",
    "\n",
    "from IPython.display import Image, display\n",
    "display(Image(graph.get_graph().draw_mermaid_png()))"
   ]
  },
  {
   "cell_type": "code",
   "execution_count": 27,
   "id": "426b9240",
   "metadata": {},
   "outputs": [
    {
     "data": {
      "text/plain": [
       "{'messages': [HumanMessage(content='Hi my name is Krish', additional_kwargs={}, response_metadata={}, id='f50f8ed8-5318-42a7-9dd0-a1cc60f523d6'),\n",
       "  AIMessage(content='Nice to meet you, Krish! What brings you here today?', additional_kwargs={}, response_metadata={'token_usage': {'completion_tokens': 14, 'prompt_tokens': 2193, 'total_tokens': 2207, 'completion_time': 0.011282157, 'prompt_time': 0.241798525, 'queue_time': 0.22351951600000003, 'total_time': 0.253080682}, 'model_name': 'llama3-8b-8192', 'system_fingerprint': 'fp_8b7c3a83f7', 'finish_reason': 'stop', 'logprobs': None}, id='run--e48cddcf-deaa-4877-953e-e6ecb8780b2d-0', usage_metadata={'input_tokens': 2193, 'output_tokens': 14, 'total_tokens': 2207})]}"
      ]
     },
     "execution_count": 27,
     "metadata": {},
     "output_type": "execute_result"
    }
   ],
   "source": [
    "config={\"configurable\":{\"thread_id\":\"1\"}}\n",
    "response=graph.invoke({\"messages\":\"Hi my name is Krish\"},config=config)\n",
    "response\n"
   ]
  },
  {
   "cell_type": "code",
   "execution_count": 28,
   "id": "904463e8",
   "metadata": {},
   "outputs": [
    {
     "data": {
      "text/plain": [
       "'Nice to meet you, Krish! What brings you here today?'"
      ]
     },
     "execution_count": 28,
     "metadata": {},
     "output_type": "execute_result"
    }
   ],
   "source": [
    "response['messages'][-1].content"
   ]
  },
  {
   "cell_type": "code",
   "execution_count": 29,
   "id": "363227cb",
   "metadata": {},
   "outputs": [
    {
     "name": "stdout",
     "output_type": "stream",
     "text": [
      "Your name is Krish!\n"
     ]
    }
   ],
   "source": [
    "response=graph.invoke({\"messages\":\"Hey what is my name\"},config=config)\n",
    "\n",
    "print(response['messages'][-1].content)"
   ]
  },
  {
   "cell_type": "code",
   "execution_count": 30,
   "id": "d53567d2",
   "metadata": {},
   "outputs": [
    {
     "name": "stdout",
     "output_type": "stream",
     "text": [
      "I remember, your name is Krish!\n"
     ]
    }
   ],
   "source": [
    "response=graph.invoke({\"messages\":\"Hey do you remember mmy name\"},config=config)\n",
    "\n",
    "print(response['messages'][-1].content)"
   ]
  },
  {
   "cell_type": "markdown",
   "id": "ac7b3d4d",
   "metadata": {},
   "source": [
    "### 1. Create Simple Agent"
   ]
  },
  {
   "cell_type": "code",
   "execution_count": 31,
   "id": "29fe2fbf",
   "metadata": {},
   "outputs": [],
   "source": [
    "from langgraph.checkpoint.memory import MemorySaver\n",
    "memory=MemorySaver()"
   ]
  },
  {
   "cell_type": "code",
   "execution_count": 32,
   "id": "5bca6fc4",
   "metadata": {},
   "outputs": [],
   "source": [
    "def superbot(state:State):\n",
    "    return {\"messages\":[llm.invoke(state['messages'])]}"
   ]
  },
  {
   "cell_type": "code",
   "execution_count": 33,
   "id": "433922c6",
   "metadata": {},
   "outputs": [
    {
     "data": {
      "image/png": "[encoded data removed]",
      "text/plain": [
       "<IPython.core.display.Image object>"
      ]
     },
     "metadata": {},
     "output_type": "display_data"
    }
   ],
   "source": [
    "graph=StateGraph(State)\n",
    "\n",
    "## node\n",
    "graph.add_node(\"SuperBot\",superbot)\n",
    "\n",
    "## Edges\n",
    "graph.add_edge(START,\"SuperBot\")\n",
    "graph.add_edge(\"SuperBot\",END)\n",
    "\n",
    "\n",
    "graph_builder=graph.compile(checkpointer=memory)\n",
    "\n",
    "\n",
    "## Display\n",
    "from IPython.display import Image, display\n",
    "display(Image(graph_builder.get_graph().draw_mermaid_png()))"
   ]
  },
  {
   "cell_type": "code",
   "execution_count": 34,
   "id": "486b24f1",
   "metadata": {},
   "outputs": [
    {
     "data": {
      "text/plain": [
       "{'messages': [HumanMessage(content='Hi,My name is Krish And I like cricket', additional_kwargs={}, response_metadata={}, id='cfe21f70-f98b-415c-90e2-5afaf4cc9893'),\n",
       "  AIMessage(content=\"Nice to meet you, Krish! Cricket is a fantastic sport, isn't it? Do you have a favorite team or player?\", additional_kwargs={}, response_metadata={'token_usage': {'completion_tokens': 27, 'prompt_tokens': 20, 'total_tokens': 47, 'completion_time': 0.092904154, 'prompt_time': 0.013555155, 'queue_time': 0.265683815, 'total_time': 0.106459309}, 'model_name': 'llama3-8b-8192', 'system_fingerprint': 'fp_8dc6ecaf8e', 'finish_reason': 'stop', 'logprobs': None}, id='run--043ad96e-8d14-47c3-b3e3-0ee1cd556358-0', usage_metadata={'input_tokens': 20, 'output_tokens': 27, 'total_tokens': 47})]}"
      ]
     },
     "execution_count": 34,
     "metadata": {},
     "output_type": "execute_result"
    }
   ],
   "source": [
    "## Invocation\n",
    "\n",
    "config = {\"configurable\": {\"thread_id\": \"1\"}}\n",
    "\n",
    "graph_builder.invoke({'messages':\"Hi,My name is Krish And I like cricket\"},config)"
   ]
  },
  {
   "cell_type": "markdown",
   "id": "2b14a6a0",
   "metadata": {},
   "source": [
    "### 2. Streaming "
   ]
  },
  {
   "cell_type": "markdown",
   "id": "8b1ef425",
   "metadata": {},
   "source": [
    "Methods: .stream() and astream()\n",
    "\n",
    "- These methods are sync and async methods for streaming back results.\n",
    "\n",
    "Additional parameters in streaming modes for graph state\n",
    "\n",
    "- **values** : This streams the full state of the graph after each node is called.\n",
    "- **updates** : This streams updates to the state of the graph after each node is called."
   ]
  },
  {
   "cell_type": "code",
   "execution_count": 38,
   "id": "32d6ac91",
   "metadata": {},
   "outputs": [
    {
     "name": "stdout",
     "output_type": "stream",
     "text": [
      "{'SuperBot': {'messages': [AIMessage(content=\"Hi Krish! It's great to meet you! I see you mentioned you like cricket again! That's awesome! I'm excited to chat with you about cricket. Do you have a favorite team or player? Have you played cricket yourself or just enjoy watching it?\", additional_kwargs={}, response_metadata={'token_usage': {'completion_tokens': 54, 'prompt_tokens': 155, 'total_tokens': 209, 'completion_time': 0.043366587, 'prompt_time': 0.031334399, 'queue_time': 0.221635401, 'total_time': 0.074700986}, 'model_name': 'llama3-8b-8192', 'system_fingerprint': 'fp_8b7c3a83f7', 'finish_reason': 'stop', 'logprobs': None}, id='run--63d1bb28-ce73-4b4a-8415-7f4c811800a7-0', usage_metadata={'input_tokens': 155, 'output_tokens': 54, 'total_tokens': 209})]}}\n"
     ]
    }
   ],
   "source": [
    "# Create a thread\n",
    "config = {\"configurable\": {\"thread_id\": \"3\"}}\n",
    "\n",
    "for chunk in graph_builder.stream({'messages':\"Hi,My name is Krish And I like cricket\"},config,stream_mode=\"updates\"):\n",
    "    pprint(chunk)"
   ]
  },
  {
   "cell_type": "code",
   "execution_count": 36,
   "id": "2fefc7c6",
   "metadata": {},
   "outputs": [
    {
     "name": "stdout",
     "output_type": "stream",
     "text": [
      "{'messages': [HumanMessage(content='Hi,My name is Krish And I like cricket', additional_kwargs={}, response_metadata={}, id='9d5fd8d4-238f-4ae5-8590-bb7b73056bba'), AIMessage(content='Hi Krish! Nice to meet you! So, you like cricket, huh? Which team do you support? Are you a fan of any particular player or tournament?', additional_kwargs={}, response_metadata={'token_usage': {'completion_tokens': 34, 'prompt_tokens': 20, 'total_tokens': 54, 'completion_time': 0.150412591, 'prompt_time': 0.016483555, 'queue_time': 0.26603323300000004, 'total_time': 0.166896146}, 'model_name': 'llama3-8b-8192', 'system_fingerprint': 'fp_8dc6ecaf8e', 'finish_reason': 'stop', 'logprobs': None}, id='run--41324e3a-17ed-4665-865a-b296786dbcdd-0', usage_metadata={'input_tokens': 20, 'output_tokens': 34, 'total_tokens': 54}), HumanMessage(content='Hi,My name is Krish And I like cricket', additional_kwargs={}, response_metadata={}, id='12c5560b-00d5-4acd-af03-53dbe5e43644')]}\n",
      "{'messages': [HumanMessage(content='Hi,My name is Krish And I like cricket', additional_kwargs={}, response_metadata={}, id='9d5fd8d4-238f-4ae5-8590-bb7b73056bba'), AIMessage(content='Hi Krish! Nice to meet you! So, you like cricket, huh? Which team do you support? Are you a fan of any particular player or tournament?', additional_kwargs={}, response_metadata={'token_usage': {'completion_tokens': 34, 'prompt_tokens': 20, 'total_tokens': 54, 'completion_time': 0.150412591, 'prompt_time': 0.016483555, 'queue_time': 0.26603323300000004, 'total_time': 0.166896146}, 'model_name': 'llama3-8b-8192', 'system_fingerprint': 'fp_8dc6ecaf8e', 'finish_reason': 'stop', 'logprobs': None}, id='run--41324e3a-17ed-4665-865a-b296786dbcdd-0', usage_metadata={'input_tokens': 20, 'output_tokens': 34, 'total_tokens': 54}), HumanMessage(content='Hi,My name is Krish And I like cricket', additional_kwargs={}, response_metadata={}, id='12c5560b-00d5-4acd-af03-53dbe5e43644'), AIMessage(content=\"Hi Krish! Nice to meet you! So, you like cricket? That's awesome! Cricket is a fantastic sport. Are you a fan of Test cricket, One-Day Internationals (ODIs), or Twenty20 (T20)? Or do you have a special interest in a particular team or player?\", additional_kwargs={}, response_metadata={'token_usage': {'completion_tokens': 63, 'prompt_tokens': 73, 'total_tokens': 136, 'completion_time': 0.05052615, 'prompt_time': 0.015268478, 'queue_time': 0.405653961, 'total_time': 0.065794628}, 'model_name': 'llama3-8b-8192', 'system_fingerprint': 'fp_2717d04279', 'finish_reason': 'stop', 'logprobs': None}, id='run--7481718a-982e-4739-adc0-cfd7c759699c-0', usage_metadata={'input_tokens': 73, 'output_tokens': 63, 'total_tokens': 136})]}\n"
     ]
    }
   ],
   "source": [
    "for chunk in graph_builder.stream({'messages':\"Hi,My name is Krish And I like cricket\"},config,stream_mode=\"values\"):\n",
    "    print(chunk)"
   ]
  },
  {
   "cell_type": "code",
   "execution_count": 37,
   "id": "2306108c",
   "metadata": {},
   "outputs": [
    {
     "name": "stdout",
     "output_type": "stream",
     "text": [
      "{'SuperBot': {'messages': [AIMessage(content=\"Hello Krish! Nice to meet you! Cricket is a great sport, isn't it? Who's your favorite team or player? Do you play cricket yourself or just enjoy watching it?\", additional_kwargs={}, response_metadata={'token_usage': {'completion_tokens': 38, 'prompt_tokens': 20, 'total_tokens': 58, 'completion_time': 0.051246356, 'prompt_time': 0.004681773, 'queue_time': 0.272316476, 'total_time': 0.055928129}, 'model_name': 'llama3-8b-8192', 'system_fingerprint': 'fp_6d1c2b0784', 'finish_reason': 'stop', 'logprobs': None}, id='run--5212dc88-b6d6-49f0-a9c1-2fb14321fccd-0', usage_metadata={'input_tokens': 20, 'output_tokens': 38, 'total_tokens': 58})]}}\n"
     ]
    }
   ],
   "source": [
    "# Create a thread\n",
    "config = {\"configurable\": {\"thread_id\": \"4\"}}\n",
    "\n",
    "for chunk in graph_builder.stream({'messages':\"Hi,My name is Krish And I like cricket\"},config,stream_mode=\"updates\"):\n",
    "    print(chunk)"
   ]
  },
  {
   "cell_type": "code",
   "execution_count": 39,
   "id": "321c88bc",
   "metadata": {},
   "outputs": [
    {
     "name": "stdout",
     "output_type": "stream",
     "text": [
      "{'messages': [HumanMessage(content='Hi,My name is Krish And I like cricket', additional_kwargs={}, response_metadata={}, id='9d5fd8d4-238f-4ae5-8590-bb7b73056bba'), AIMessage(content='Hi Krish! Nice to meet you! So, you like cricket, huh? Which team do you support? Are you a fan of any particular player or tournament?', additional_kwargs={}, response_metadata={'token_usage': {'completion_tokens': 34, 'prompt_tokens': 20, 'total_tokens': 54, 'completion_time': 0.150412591, 'prompt_time': 0.016483555, 'queue_time': 0.26603323300000004, 'total_time': 0.166896146}, 'model_name': 'llama3-8b-8192', 'system_fingerprint': 'fp_8dc6ecaf8e', 'finish_reason': 'stop', 'logprobs': None}, id='run--41324e3a-17ed-4665-865a-b296786dbcdd-0', usage_metadata={'input_tokens': 20, 'output_tokens': 34, 'total_tokens': 54}), HumanMessage(content='Hi,My name is Krish And I like cricket', additional_kwargs={}, response_metadata={}, id='12c5560b-00d5-4acd-af03-53dbe5e43644'), AIMessage(content=\"Hi Krish! Nice to meet you! So, you like cricket? That's awesome! Cricket is a fantastic sport. Are you a fan of Test cricket, One-Day Internationals (ODIs), or Twenty20 (T20)? Or do you have a special interest in a particular team or player?\", additional_kwargs={}, response_metadata={'token_usage': {'completion_tokens': 63, 'prompt_tokens': 73, 'total_tokens': 136, 'completion_time': 0.05052615, 'prompt_time': 0.015268478, 'queue_time': 0.405653961, 'total_time': 0.065794628}, 'model_name': 'llama3-8b-8192', 'system_fingerprint': 'fp_2717d04279', 'finish_reason': 'stop', 'logprobs': None}, id='run--7481718a-982e-4739-adc0-cfd7c759699c-0', usage_metadata={'input_tokens': 73, 'output_tokens': 63, 'total_tokens': 136}), HumanMessage(content='Hi,My name is Krish And I like cricket', additional_kwargs={}, response_metadata={}, id='9621a77b-7016-4dc6-b49d-e54dcf71fb92'), AIMessage(content=\"Hi Krish! It's great to meet you! I see you mentioned you like cricket again! That's awesome! I'm excited to chat with you about cricket. Do you have a favorite team or player? Have you played cricket yourself or just enjoy watching it?\", additional_kwargs={}, response_metadata={'token_usage': {'completion_tokens': 54, 'prompt_tokens': 155, 'total_tokens': 209, 'completion_time': 0.043366587, 'prompt_time': 0.031334399, 'queue_time': 0.221635401, 'total_time': 0.074700986}, 'model_name': 'llama3-8b-8192', 'system_fingerprint': 'fp_8b7c3a83f7', 'finish_reason': 'stop', 'logprobs': None}, id='run--63d1bb28-ce73-4b4a-8415-7f4c811800a7-0', usage_metadata={'input_tokens': 155, 'output_tokens': 54, 'total_tokens': 209}), HumanMessage(content='I also like football', additional_kwargs={}, response_metadata={}, id='712d8db3-6b26-4dbf-acd5-a25f34a42470')]}\n",
      "{'messages': [HumanMessage(content='Hi,My name is Krish And I like cricket', additional_kwargs={}, response_metadata={}, id='9d5fd8d4-238f-4ae5-8590-bb7b73056bba'), AIMessage(content='Hi Krish! Nice to meet you! So, you like cricket, huh? Which team do you support? Are you a fan of any particular player or tournament?', additional_kwargs={}, response_metadata={'token_usage': {'completion_tokens': 34, 'prompt_tokens': 20, 'total_tokens': 54, 'completion_time': 0.150412591, 'prompt_time': 0.016483555, 'queue_time': 0.26603323300000004, 'total_time': 0.166896146}, 'model_name': 'llama3-8b-8192', 'system_fingerprint': 'fp_8dc6ecaf8e', 'finish_reason': 'stop', 'logprobs': None}, id='run--41324e3a-17ed-4665-865a-b296786dbcdd-0', usage_metadata={'input_tokens': 20, 'output_tokens': 34, 'total_tokens': 54}), HumanMessage(content='Hi,My name is Krish And I like cricket', additional_kwargs={}, response_metadata={}, id='12c5560b-00d5-4acd-af03-53dbe5e43644'), AIMessage(content=\"Hi Krish! Nice to meet you! So, you like cricket? That's awesome! Cricket is a fantastic sport. Are you a fan of Test cricket, One-Day Internationals (ODIs), or Twenty20 (T20)? Or do you have a special interest in a particular team or player?\", additional_kwargs={}, response_metadata={'token_usage': {'completion_tokens': 63, 'prompt_tokens': 73, 'total_tokens': 136, 'completion_time': 0.05052615, 'prompt_time': 0.015268478, 'queue_time': 0.405653961, 'total_time': 0.065794628}, 'model_name': 'llama3-8b-8192', 'system_fingerprint': 'fp_2717d04279', 'finish_reason': 'stop', 'logprobs': None}, id='run--7481718a-982e-4739-adc0-cfd7c759699c-0', usage_metadata={'input_tokens': 73, 'output_tokens': 63, 'total_tokens': 136}), HumanMessage(content='Hi,My name is Krish And I like cricket', additional_kwargs={}, response_metadata={}, id='9621a77b-7016-4dc6-b49d-e54dcf71fb92'), AIMessage(content=\"Hi Krish! It's great to meet you! I see you mentioned you like cricket again! That's awesome! I'm excited to chat with you about cricket. Do you have a favorite team or player? Have you played cricket yourself or just enjoy watching it?\", additional_kwargs={}, response_metadata={'token_usage': {'completion_tokens': 54, 'prompt_tokens': 155, 'total_tokens': 209, 'completion_time': 0.043366587, 'prompt_time': 0.031334399, 'queue_time': 0.221635401, 'total_time': 0.074700986}, 'model_name': 'llama3-8b-8192', 'system_fingerprint': 'fp_8b7c3a83f7', 'finish_reason': 'stop', 'logprobs': None}, id='run--63d1bb28-ce73-4b4a-8415-7f4c811800a7-0', usage_metadata={'input_tokens': 155, 'output_tokens': 54, 'total_tokens': 209}), HumanMessage(content='I also like football', additional_kwargs={}, response_metadata={}, id='712d8db3-6b26-4dbf-acd5-a25f34a42470'), AIMessage(content=\"A man of many interests, Krish! So, you like both cricket and football, huh? That's great! Both are fantastic sports with their own unique thrills and challenges. Do you have a preferred league or tournament in football, like the English Premier League or the Champions League? And do you have a favorite team or player in football as well?\", additional_kwargs={}, response_metadata={'token_usage': {'completion_tokens': 72, 'prompt_tokens': 222, 'total_tokens': 294, 'completion_time': 0.095876598, 'prompt_time': 0.058755871, 'queue_time': 0.22195499199999996, 'total_time': 0.154632469}, 'model_name': 'llama3-8b-8192', 'system_fingerprint': 'fp_6d1c2b0784', 'finish_reason': 'stop', 'logprobs': None}, id='run--2e431fd0-c17d-4471-86b0-c2548d3e75e7-0', usage_metadata={'input_tokens': 222, 'output_tokens': 72, 'total_tokens': 294})]}\n"
     ]
    }
   ],
   "source": [
    "for chunk in graph_builder.stream({'messages':\"I also like football\"},config,stream_mode=\"values\"):\n",
    "    print(chunk)"
   ]
  },
  {
   "cell_type": "code",
   "execution_count": 40,
   "id": "57e296a1",
   "metadata": {},
   "outputs": [
    {
     "name": "stdout",
     "output_type": "stream",
     "text": [
      "{'event': 'on_chain_start', 'data': {'input': {'messages': ['Hi My name is Krish and I like to play cricket']}}, 'name': 'LangGraph', 'tags': [], 'run_id': '16658c30-d9f6-4489-ab5c-e16be987ca37', 'metadata': {'thread_id': '5'}, 'parent_ids': []}\n",
      "{'event': 'on_chain_start', 'data': {'input': {'messages': [HumanMessage(content='Hi My name is Krish and I like to play cricket', additional_kwargs={}, response_metadata={}, id='70e90418-5ef9-4759-91c6-2f6e1732d63f')]}}, 'name': 'SuperBot', 'tags': ['graph:step:1'], 'run_id': '5bb18e61-3a1d-4056-9a7f-f9850b1a5ee8', 'metadata': {'thread_id': '5', 'langgraph_step': 1, 'langgraph_node': 'SuperBot', 'langgraph_triggers': ('branch:to:SuperBot',), 'langgraph_path': ('__pregel_pull', 'SuperBot'), 'langgraph_checkpoint_ns': 'SuperBot:eaa28876-ecf1-051e-52c6-7b5f2efa6790'}, 'parent_ids': ['16658c30-d9f6-4489-ab5c-e16be987ca37']}\n",
      "{'event': 'on_chat_model_start', 'data': {'input': {'messages': [[HumanMessage(content='Hi My name is Krish and I like to play cricket', additional_kwargs={}, response_metadata={}, id='70e90418-5ef9-4759-91c6-2f6e1732d63f')]]}}, 'name': 'ChatGroq', 'tags': ['seq:step:1'], 'run_id': '6ac16989-70fa-49b9-af1c-5f741bb13837', 'metadata': {'thread_id': '5', 'langgraph_step': 1, 'langgraph_node': 'SuperBot', 'langgraph_triggers': ('branch:to:SuperBot',), 'langgraph_path': ('__pregel_pull', 'SuperBot'), 'langgraph_checkpoint_ns': 'SuperBot:eaa28876-ecf1-051e-52c6-7b5f2efa6790', 'checkpoint_ns': 'SuperBot:eaa28876-ecf1-051e-52c6-7b5f2efa6790', 'ls_provider': 'groq', 'ls_model_name': 'llama3-8b-8192', 'ls_model_type': 'chat', 'ls_temperature': 0.7}, 'parent_ids': ['16658c30-d9f6-4489-ab5c-e16be987ca37', '5bb18e61-3a1d-4056-9a7f-f9850b1a5ee8']}\n",
      "{'event': 'on_chat_model_stream', 'data': {'chunk': AIMessageChunk(content='', additional_kwargs={}, response_metadata={}, id='run--6ac16989-70fa-49b9-af1c-5f741bb13837')}, 'run_id': '6ac16989-70fa-49b9-af1c-5f741bb13837', 'name': 'ChatGroq', 'tags': ['seq:step:1'], 'metadata': {'thread_id': '5', 'langgraph_step': 1, 'langgraph_node': 'SuperBot', 'langgraph_triggers': ('branch:to:SuperBot',), 'langgraph_path': ('__pregel_pull', 'SuperBot'), 'langgraph_checkpoint_ns': 'SuperBot:eaa28876-ecf1-051e-52c6-7b5f2efa6790', 'checkpoint_ns': 'SuperBot:eaa28876-ecf1-051e-52c6-7b5f2efa6790', 'ls_provider': 'groq', 'ls_model_name': 'llama3-8b-8192', 'ls_model_type': 'chat', 'ls_temperature': 0.7}, 'parent_ids': ['16658c30-d9f6-4489-ab5c-e16be987ca37', '5bb18e61-3a1d-4056-9a7f-f9850b1a5ee8']}\n",
      "{'event': 'on_chat_model_stream', 'data': {'chunk': AIMessageChunk(content='Hi', additional_kwargs={}, response_metadata={}, id='run--6ac16989-70fa-49b9-af1c-5f741bb13837')}, 'run_id': '6ac16989-70fa-49b9-af1c-5f741bb13837', 'name': 'ChatGroq', 'tags': ['seq:step:1'], 'metadata': {'thread_id': '5', 'langgraph_step': 1, 'langgraph_node': 'SuperBot', 'langgraph_triggers': ('branch:to:SuperBot',), 'langgraph_path': ('__pregel_pull', 'SuperBot'), 'langgraph_checkpoint_ns': 'SuperBot:eaa28876-ecf1-051e-52c6-7b5f2efa6790', 'checkpoint_ns': 'SuperBot:eaa28876-ecf1-051e-52c6-7b5f2efa6790', 'ls_provider': 'groq', 'ls_model_name': 'llama3-8b-8192', 'ls_model_type': 'chat', 'ls_temperature': 0.7}, 'parent_ids': ['16658c30-d9f6-4489-ab5c-e16be987ca37', '5bb18e61-3a1d-4056-9a7f-f9850b1a5ee8']}\n",
      "{'event': 'on_chat_model_stream', 'data': {'chunk': AIMessageChunk(content=' Krish', additional_kwargs={}, response_metadata={}, id='run--6ac16989-70fa-49b9-af1c-5f741bb13837')}, 'run_id': '6ac16989-70fa-49b9-af1c-5f741bb13837', 'name': 'ChatGroq', 'tags': ['seq:step:1'], 'metadata': {'thread_id': '5', 'langgraph_step': 1, 'langgraph_node': 'SuperBot', 'langgraph_triggers': ('branch:to:SuperBot',), 'langgraph_path': ('__pregel_pull', 'SuperBot'), 'langgraph_checkpoint_ns': 'SuperBot:eaa28876-ecf1-051e-52c6-7b5f2efa6790', 'checkpoint_ns': 'SuperBot:eaa28876-ecf1-051e-52c6-7b5f2efa6790', 'ls_provider': 'groq', 'ls_model_name': 'llama3-8b-8192', 'ls_model_type': 'chat', 'ls_temperature': 0.7}, 'parent_ids': ['16658c30-d9f6-4489-ab5c-e16be987ca37', '5bb18e61-3a1d-4056-9a7f-f9850b1a5ee8']}\n",
      "{'event': 'on_chat_model_stream', 'data': {'chunk': AIMessageChunk(content='!', additional_kwargs={}, response_metadata={}, id='run--6ac16989-70fa-49b9-af1c-5f741bb13837')}, 'run_id': '6ac16989-70fa-49b9-af1c-5f741bb13837', 'name': 'ChatGroq', 'tags': ['seq:step:1'], 'metadata': {'thread_id': '5', 'langgraph_step': 1, 'langgraph_node': 'SuperBot', 'langgraph_triggers': ('branch:to:SuperBot',), 'langgraph_path': ('__pregel_pull', 'SuperBot'), 'langgraph_checkpoint_ns': 'SuperBot:eaa28876-ecf1-051e-52c6-7b5f2efa6790', 'checkpoint_ns': 'SuperBot:eaa28876-ecf1-051e-52c6-7b5f2efa6790', 'ls_provider': 'groq', 'ls_model_name': 'llama3-8b-8192', 'ls_model_type': 'chat', 'ls_temperature': 0.7}, 'parent_ids': ['16658c30-d9f6-4489-ab5c-e16be987ca37', '5bb18e61-3a1d-4056-9a7f-f9850b1a5ee8']}\n",
      "{'event': 'on_chat_model_stream', 'data': {'chunk': AIMessageChunk(content=' That', additional_kwargs={}, response_metadata={}, id='run--6ac16989-70fa-49b9-af1c-5f741bb13837')}, 'run_id': '6ac16989-70fa-49b9-af1c-5f741bb13837', 'name': 'ChatGroq', 'tags': ['seq:step:1'], 'metadata': {'thread_id': '5', 'langgraph_step': 1, 'langgraph_node': 'SuperBot', 'langgraph_triggers': ('branch:to:SuperBot',), 'langgraph_path': ('__pregel_pull', 'SuperBot'), 'langgraph_checkpoint_ns': 'SuperBot:eaa28876-ecf1-051e-52c6-7b5f2efa6790', 'checkpoint_ns': 'SuperBot:eaa28876-ecf1-051e-52c6-7b5f2efa6790', 'ls_provider': 'groq', 'ls_model_name': 'llama3-8b-8192', 'ls_model_type': 'chat', 'ls_temperature': 0.7}, 'parent_ids': ['16658c30-d9f6-4489-ab5c-e16be987ca37', '5bb18e61-3a1d-4056-9a7f-f9850b1a5ee8']}\n",
      "{'event': 'on_chat_model_stream', 'data': {'chunk': AIMessageChunk(content=\"'s\", additional_kwargs={}, response_metadata={}, id='run--6ac16989-70fa-49b9-af1c-5f741bb13837')}, 'run_id': '6ac16989-70fa-49b9-af1c-5f741bb13837', 'name': 'ChatGroq', 'tags': ['seq:step:1'], 'metadata': {'thread_id': '5', 'langgraph_step': 1, 'langgraph_node': 'SuperBot', 'langgraph_triggers': ('branch:to:SuperBot',), 'langgraph_path': ('__pregel_pull', 'SuperBot'), 'langgraph_checkpoint_ns': 'SuperBot:eaa28876-ecf1-051e-52c6-7b5f2efa6790', 'checkpoint_ns': 'SuperBot:eaa28876-ecf1-051e-52c6-7b5f2efa6790', 'ls_provider': 'groq', 'ls_model_name': 'llama3-8b-8192', 'ls_model_type': 'chat', 'ls_temperature': 0.7}, 'parent_ids': ['16658c30-d9f6-4489-ab5c-e16be987ca37', '5bb18e61-3a1d-4056-9a7f-f9850b1a5ee8']}\n",
      "{'event': 'on_chat_model_stream', 'data': {'chunk': AIMessageChunk(content=' awesome', additional_kwargs={}, response_metadata={}, id='run--6ac16989-70fa-49b9-af1c-5f741bb13837')}, 'run_id': '6ac16989-70fa-49b9-af1c-5f741bb13837', 'name': 'ChatGroq', 'tags': ['seq:step:1'], 'metadata': {'thread_id': '5', 'langgraph_step': 1, 'langgraph_node': 'SuperBot', 'langgraph_triggers': ('branch:to:SuperBot',), 'langgraph_path': ('__pregel_pull', 'SuperBot'), 'langgraph_checkpoint_ns': 'SuperBot:eaa28876-ecf1-051e-52c6-7b5f2efa6790', 'checkpoint_ns': 'SuperBot:eaa28876-ecf1-051e-52c6-7b5f2efa6790', 'ls_provider': 'groq', 'ls_model_name': 'llama3-8b-8192', 'ls_model_type': 'chat', 'ls_temperature': 0.7}, 'parent_ids': ['16658c30-d9f6-4489-ab5c-e16be987ca37', '5bb18e61-3a1d-4056-9a7f-f9850b1a5ee8']}\n",
      "{'event': 'on_chat_model_stream', 'data': {'chunk': AIMessageChunk(content='!', additional_kwargs={}, response_metadata={}, id='run--6ac16989-70fa-49b9-af1c-5f741bb13837')}, 'run_id': '6ac16989-70fa-49b9-af1c-5f741bb13837', 'name': 'ChatGroq', 'tags': ['seq:step:1'], 'metadata': {'thread_id': '5', 'langgraph_step': 1, 'langgraph_node': 'SuperBot', 'langgraph_triggers': ('branch:to:SuperBot',), 'langgraph_path': ('__pregel_pull', 'SuperBot'), 'langgraph_checkpoint_ns': 'SuperBot:eaa28876-ecf1-051e-52c6-7b5f2efa6790', 'checkpoint_ns': 'SuperBot:eaa28876-ecf1-051e-52c6-7b5f2efa6790', 'ls_provider': 'groq', 'ls_model_name': 'llama3-8b-8192', 'ls_model_type': 'chat', 'ls_temperature': 0.7}, 'parent_ids': ['16658c30-d9f6-4489-ab5c-e16be987ca37', '5bb18e61-3a1d-4056-9a7f-f9850b1a5ee8']}\n",
      "{'event': 'on_chat_model_stream', 'data': {'chunk': AIMessageChunk(content=' Cricket', additional_kwargs={}, response_metadata={}, id='run--6ac16989-70fa-49b9-af1c-5f741bb13837')}, 'run_id': '6ac16989-70fa-49b9-af1c-5f741bb13837', 'name': 'ChatGroq', 'tags': ['seq:step:1'], 'metadata': {'thread_id': '5', 'langgraph_step': 1, 'langgraph_node': 'SuperBot', 'langgraph_triggers': ('branch:to:SuperBot',), 'langgraph_path': ('__pregel_pull', 'SuperBot'), 'langgraph_checkpoint_ns': 'SuperBot:eaa28876-ecf1-051e-52c6-7b5f2efa6790', 'checkpoint_ns': 'SuperBot:eaa28876-ecf1-051e-52c6-7b5f2efa6790', 'ls_provider': 'groq', 'ls_model_name': 'llama3-8b-8192', 'ls_model_type': 'chat', 'ls_temperature': 0.7}, 'parent_ids': ['16658c30-d9f6-4489-ab5c-e16be987ca37', '5bb18e61-3a1d-4056-9a7f-f9850b1a5ee8']}\n",
      "{'event': 'on_chat_model_stream', 'data': {'chunk': AIMessageChunk(content=' is', additional_kwargs={}, response_metadata={}, id='run--6ac16989-70fa-49b9-af1c-5f741bb13837')}, 'run_id': '6ac16989-70fa-49b9-af1c-5f741bb13837', 'name': 'ChatGroq', 'tags': ['seq:step:1'], 'metadata': {'thread_id': '5', 'langgraph_step': 1, 'langgraph_node': 'SuperBot', 'langgraph_triggers': ('branch:to:SuperBot',), 'langgraph_path': ('__pregel_pull', 'SuperBot'), 'langgraph_checkpoint_ns': 'SuperBot:eaa28876-ecf1-051e-52c6-7b5f2efa6790', 'checkpoint_ns': 'SuperBot:eaa28876-ecf1-051e-52c6-7b5f2efa6790', 'ls_provider': 'groq', 'ls_model_name': 'llama3-8b-8192', 'ls_model_type': 'chat', 'ls_temperature': 0.7}, 'parent_ids': ['16658c30-d9f6-4489-ab5c-e16be987ca37', '5bb18e61-3a1d-4056-9a7f-f9850b1a5ee8']}\n",
      "{'event': 'on_chat_model_stream', 'data': {'chunk': AIMessageChunk(content=' a', additional_kwargs={}, response_metadata={}, id='run--6ac16989-70fa-49b9-af1c-5f741bb13837')}, 'run_id': '6ac16989-70fa-49b9-af1c-5f741bb13837', 'name': 'ChatGroq', 'tags': ['seq:step:1'], 'metadata': {'thread_id': '5', 'langgraph_step': 1, 'langgraph_node': 'SuperBot', 'langgraph_triggers': ('branch:to:SuperBot',), 'langgraph_path': ('__pregel_pull', 'SuperBot'), 'langgraph_checkpoint_ns': 'SuperBot:eaa28876-ecf1-051e-52c6-7b5f2efa6790', 'checkpoint_ns': 'SuperBot:eaa28876-ecf1-051e-52c6-7b5f2efa6790', 'ls_provider': 'groq', 'ls_model_name': 'llama3-8b-8192', 'ls_model_type': 'chat', 'ls_temperature': 0.7}, 'parent_ids': ['16658c30-d9f6-4489-ab5c-e16be987ca37', '5bb18e61-3a1d-4056-9a7f-f9850b1a5ee8']}\n",
      "{'event': 'on_chat_model_stream', 'data': {'chunk': AIMessageChunk(content=' fantastic', additional_kwargs={}, response_metadata={}, id='run--6ac16989-70fa-49b9-af1c-5f741bb13837')}, 'run_id': '6ac16989-70fa-49b9-af1c-5f741bb13837', 'name': 'ChatGroq', 'tags': ['seq:step:1'], 'metadata': {'thread_id': '5', 'langgraph_step': 1, 'langgraph_node': 'SuperBot', 'langgraph_triggers': ('branch:to:SuperBot',), 'langgraph_path': ('__pregel_pull', 'SuperBot'), 'langgraph_checkpoint_ns': 'SuperBot:eaa28876-ecf1-051e-52c6-7b5f2efa6790', 'checkpoint_ns': 'SuperBot:eaa28876-ecf1-051e-52c6-7b5f2efa6790', 'ls_provider': 'groq', 'ls_model_name': 'llama3-8b-8192', 'ls_model_type': 'chat', 'ls_temperature': 0.7}, 'parent_ids': ['16658c30-d9f6-4489-ab5c-e16be987ca37', '5bb18e61-3a1d-4056-9a7f-f9850b1a5ee8']}\n",
      "{'event': 'on_chat_model_stream', 'data': {'chunk': AIMessageChunk(content=' sport', additional_kwargs={}, response_metadata={}, id='run--6ac16989-70fa-49b9-af1c-5f741bb13837')}, 'run_id': '6ac16989-70fa-49b9-af1c-5f741bb13837', 'name': 'ChatGroq', 'tags': ['seq:step:1'], 'metadata': {'thread_id': '5', 'langgraph_step': 1, 'langgraph_node': 'SuperBot', 'langgraph_triggers': ('branch:to:SuperBot',), 'langgraph_path': ('__pregel_pull', 'SuperBot'), 'langgraph_checkpoint_ns': 'SuperBot:eaa28876-ecf1-051e-52c6-7b5f2efa6790', 'checkpoint_ns': 'SuperBot:eaa28876-ecf1-051e-52c6-7b5f2efa6790', 'ls_provider': 'groq', 'ls_model_name': 'llama3-8b-8192', 'ls_model_type': 'chat', 'ls_temperature': 0.7}, 'parent_ids': ['16658c30-d9f6-4489-ab5c-e16be987ca37', '5bb18e61-3a1d-4056-9a7f-f9850b1a5ee8']}\n",
      "{'event': 'on_chat_model_stream', 'data': {'chunk': AIMessageChunk(content='.', additional_kwargs={}, response_metadata={}, id='run--6ac16989-70fa-49b9-af1c-5f741bb13837')}, 'run_id': '6ac16989-70fa-49b9-af1c-5f741bb13837', 'name': 'ChatGroq', 'tags': ['seq:step:1'], 'metadata': {'thread_id': '5', 'langgraph_step': 1, 'langgraph_node': 'SuperBot', 'langgraph_triggers': ('branch:to:SuperBot',), 'langgraph_path': ('__pregel_pull', 'SuperBot'), 'langgraph_checkpoint_ns': 'SuperBot:eaa28876-ecf1-051e-52c6-7b5f2efa6790', 'checkpoint_ns': 'SuperBot:eaa28876-ecf1-051e-52c6-7b5f2efa6790', 'ls_provider': 'groq', 'ls_model_name': 'llama3-8b-8192', 'ls_model_type': 'chat', 'ls_temperature': 0.7}, 'parent_ids': ['16658c30-d9f6-4489-ab5c-e16be987ca37', '5bb18e61-3a1d-4056-9a7f-f9850b1a5ee8']}\n",
      "{'event': 'on_chat_model_stream', 'data': {'chunk': AIMessageChunk(content=' Which', additional_kwargs={}, response_metadata={}, id='run--6ac16989-70fa-49b9-af1c-5f741bb13837')}, 'run_id': '6ac16989-70fa-49b9-af1c-5f741bb13837', 'name': 'ChatGroq', 'tags': ['seq:step:1'], 'metadata': {'thread_id': '5', 'langgraph_step': 1, 'langgraph_node': 'SuperBot', 'langgraph_triggers': ('branch:to:SuperBot',), 'langgraph_path': ('__pregel_pull', 'SuperBot'), 'langgraph_checkpoint_ns': 'SuperBot:eaa28876-ecf1-051e-52c6-7b5f2efa6790', 'checkpoint_ns': 'SuperBot:eaa28876-ecf1-051e-52c6-7b5f2efa6790', 'ls_provider': 'groq', 'ls_model_name': 'llama3-8b-8192', 'ls_model_type': 'chat', 'ls_temperature': 0.7}, 'parent_ids': ['16658c30-d9f6-4489-ab5c-e16be987ca37', '5bb18e61-3a1d-4056-9a7f-f9850b1a5ee8']}\n",
      "{'event': 'on_chat_model_stream', 'data': {'chunk': AIMessageChunk(content=' role', additional_kwargs={}, response_metadata={}, id='run--6ac16989-70fa-49b9-af1c-5f741bb13837')}, 'run_id': '6ac16989-70fa-49b9-af1c-5f741bb13837', 'name': 'ChatGroq', 'tags': ['seq:step:1'], 'metadata': {'thread_id': '5', 'langgraph_step': 1, 'langgraph_node': 'SuperBot', 'langgraph_triggers': ('branch:to:SuperBot',), 'langgraph_path': ('__pregel_pull', 'SuperBot'), 'langgraph_checkpoint_ns': 'SuperBot:eaa28876-ecf1-051e-52c6-7b5f2efa6790', 'checkpoint_ns': 'SuperBot:eaa28876-ecf1-051e-52c6-7b5f2efa6790', 'ls_provider': 'groq', 'ls_model_name': 'llama3-8b-8192', 'ls_model_type': 'chat', 'ls_temperature': 0.7}, 'parent_ids': ['16658c30-d9f6-4489-ab5c-e16be987ca37', '5bb18e61-3a1d-4056-9a7f-f9850b1a5ee8']}\n",
      "{'event': 'on_chat_model_stream', 'data': {'chunk': AIMessageChunk(content=' do', additional_kwargs={}, response_metadata={}, id='run--6ac16989-70fa-49b9-af1c-5f741bb13837')}, 'run_id': '6ac16989-70fa-49b9-af1c-5f741bb13837', 'name': 'ChatGroq', 'tags': ['seq:step:1'], 'metadata': {'thread_id': '5', 'langgraph_step': 1, 'langgraph_node': 'SuperBot', 'langgraph_triggers': ('branch:to:SuperBot',), 'langgraph_path': ('__pregel_pull', 'SuperBot'), 'langgraph_checkpoint_ns': 'SuperBot:eaa28876-ecf1-051e-52c6-7b5f2efa6790', 'checkpoint_ns': 'SuperBot:eaa28876-ecf1-051e-52c6-7b5f2efa6790', 'ls_provider': 'groq', 'ls_model_name': 'llama3-8b-8192', 'ls_model_type': 'chat', 'ls_temperature': 0.7}, 'parent_ids': ['16658c30-d9f6-4489-ab5c-e16be987ca37', '5bb18e61-3a1d-4056-9a7f-f9850b1a5ee8']}\n",
      "{'event': 'on_chat_model_stream', 'data': {'chunk': AIMessageChunk(content=' you', additional_kwargs={}, response_metadata={}, id='run--6ac16989-70fa-49b9-af1c-5f741bb13837')}, 'run_id': '6ac16989-70fa-49b9-af1c-5f741bb13837', 'name': 'ChatGroq', 'tags': ['seq:step:1'], 'metadata': {'thread_id': '5', 'langgraph_step': 1, 'langgraph_node': 'SuperBot', 'langgraph_triggers': ('branch:to:SuperBot',), 'langgraph_path': ('__pregel_pull', 'SuperBot'), 'langgraph_checkpoint_ns': 'SuperBot:eaa28876-ecf1-051e-52c6-7b5f2efa6790', 'checkpoint_ns': 'SuperBot:eaa28876-ecf1-051e-52c6-7b5f2efa6790', 'ls_provider': 'groq', 'ls_model_name': 'llama3-8b-8192', 'ls_model_type': 'chat', 'ls_temperature': 0.7}, 'parent_ids': ['16658c30-d9f6-4489-ab5c-e16be987ca37', '5bb18e61-3a1d-4056-9a7f-f9850b1a5ee8']}\n",
      "{'event': 'on_chat_model_stream', 'data': {'chunk': AIMessageChunk(content=' prefer', additional_kwargs={}, response_metadata={}, id='run--6ac16989-70fa-49b9-af1c-5f741bb13837')}, 'run_id': '6ac16989-70fa-49b9-af1c-5f741bb13837', 'name': 'ChatGroq', 'tags': ['seq:step:1'], 'metadata': {'thread_id': '5', 'langgraph_step': 1, 'langgraph_node': 'SuperBot', 'langgraph_triggers': ('branch:to:SuperBot',), 'langgraph_path': ('__pregel_pull', 'SuperBot'), 'langgraph_checkpoint_ns': 'SuperBot:eaa28876-ecf1-051e-52c6-7b5f2efa6790', 'checkpoint_ns': 'SuperBot:eaa28876-ecf1-051e-52c6-7b5f2efa6790', 'ls_provider': 'groq', 'ls_model_name': 'llama3-8b-8192', 'ls_model_type': 'chat', 'ls_temperature': 0.7}, 'parent_ids': ['16658c30-d9f6-4489-ab5c-e16be987ca37', '5bb18e61-3a1d-4056-9a7f-f9850b1a5ee8']}\n",
      "{'event': 'on_chat_model_stream', 'data': {'chunk': AIMessageChunk(content=' to', additional_kwargs={}, response_metadata={}, id='run--6ac16989-70fa-49b9-af1c-5f741bb13837')}, 'run_id': '6ac16989-70fa-49b9-af1c-5f741bb13837', 'name': 'ChatGroq', 'tags': ['seq:step:1'], 'metadata': {'thread_id': '5', 'langgraph_step': 1, 'langgraph_node': 'SuperBot', 'langgraph_triggers': ('branch:to:SuperBot',), 'langgraph_path': ('__pregel_pull', 'SuperBot'), 'langgraph_checkpoint_ns': 'SuperBot:eaa28876-ecf1-051e-52c6-7b5f2efa6790', 'checkpoint_ns': 'SuperBot:eaa28876-ecf1-051e-52c6-7b5f2efa6790', 'ls_provider': 'groq', 'ls_model_name': 'llama3-8b-8192', 'ls_model_type': 'chat', 'ls_temperature': 0.7}, 'parent_ids': ['16658c30-d9f6-4489-ab5c-e16be987ca37', '5bb18e61-3a1d-4056-9a7f-f9850b1a5ee8']}\n",
      "{'event': 'on_chat_model_stream', 'data': {'chunk': AIMessageChunk(content=' play', additional_kwargs={}, response_metadata={}, id='run--6ac16989-70fa-49b9-af1c-5f741bb13837')}, 'run_id': '6ac16989-70fa-49b9-af1c-5f741bb13837', 'name': 'ChatGroq', 'tags': ['seq:step:1'], 'metadata': {'thread_id': '5', 'langgraph_step': 1, 'langgraph_node': 'SuperBot', 'langgraph_triggers': ('branch:to:SuperBot',), 'langgraph_path': ('__pregel_pull', 'SuperBot'), 'langgraph_checkpoint_ns': 'SuperBot:eaa28876-ecf1-051e-52c6-7b5f2efa6790', 'checkpoint_ns': 'SuperBot:eaa28876-ecf1-051e-52c6-7b5f2efa6790', 'ls_provider': 'groq', 'ls_model_name': 'llama3-8b-8192', 'ls_model_type': 'chat', 'ls_temperature': 0.7}, 'parent_ids': ['16658c30-d9f6-4489-ab5c-e16be987ca37', '5bb18e61-3a1d-4056-9a7f-f9850b1a5ee8']}\n",
      "{'event': 'on_chat_model_stream', 'data': {'chunk': AIMessageChunk(content=' in', additional_kwargs={}, response_metadata={}, id='run--6ac16989-70fa-49b9-af1c-5f741bb13837')}, 'run_id': '6ac16989-70fa-49b9-af1c-5f741bb13837', 'name': 'ChatGroq', 'tags': ['seq:step:1'], 'metadata': {'thread_id': '5', 'langgraph_step': 1, 'langgraph_node': 'SuperBot', 'langgraph_triggers': ('branch:to:SuperBot',), 'langgraph_path': ('__pregel_pull', 'SuperBot'), 'langgraph_checkpoint_ns': 'SuperBot:eaa28876-ecf1-051e-52c6-7b5f2efa6790', 'checkpoint_ns': 'SuperBot:eaa28876-ecf1-051e-52c6-7b5f2efa6790', 'ls_provider': 'groq', 'ls_model_name': 'llama3-8b-8192', 'ls_model_type': 'chat', 'ls_temperature': 0.7}, 'parent_ids': ['16658c30-d9f6-4489-ab5c-e16be987ca37', '5bb18e61-3a1d-4056-9a7f-f9850b1a5ee8']}\n",
      "{'event': 'on_chat_model_stream', 'data': {'chunk': AIMessageChunk(content=' cricket', additional_kwargs={}, response_metadata={}, id='run--6ac16989-70fa-49b9-af1c-5f741bb13837')}, 'run_id': '6ac16989-70fa-49b9-af1c-5f741bb13837', 'name': 'ChatGroq', 'tags': ['seq:step:1'], 'metadata': {'thread_id': '5', 'langgraph_step': 1, 'langgraph_node': 'SuperBot', 'langgraph_triggers': ('branch:to:SuperBot',), 'langgraph_path': ('__pregel_pull', 'SuperBot'), 'langgraph_checkpoint_ns': 'SuperBot:eaa28876-ecf1-051e-52c6-7b5f2efa6790', 'checkpoint_ns': 'SuperBot:eaa28876-ecf1-051e-52c6-7b5f2efa6790', 'ls_provider': 'groq', 'ls_model_name': 'llama3-8b-8192', 'ls_model_type': 'chat', 'ls_temperature': 0.7}, 'parent_ids': ['16658c30-d9f6-4489-ab5c-e16be987ca37', '5bb18e61-3a1d-4056-9a7f-f9850b1a5ee8']}\n",
      "{'event': 'on_chat_model_stream', 'data': {'chunk': AIMessageChunk(content=' -', additional_kwargs={}, response_metadata={}, id='run--6ac16989-70fa-49b9-af1c-5f741bb13837')}, 'run_id': '6ac16989-70fa-49b9-af1c-5f741bb13837', 'name': 'ChatGroq', 'tags': ['seq:step:1'], 'metadata': {'thread_id': '5', 'langgraph_step': 1, 'langgraph_node': 'SuperBot', 'langgraph_triggers': ('branch:to:SuperBot',), 'langgraph_path': ('__pregel_pull', 'SuperBot'), 'langgraph_checkpoint_ns': 'SuperBot:eaa28876-ecf1-051e-52c6-7b5f2efa6790', 'checkpoint_ns': 'SuperBot:eaa28876-ecf1-051e-52c6-7b5f2efa6790', 'ls_provider': 'groq', 'ls_model_name': 'llama3-8b-8192', 'ls_model_type': 'chat', 'ls_temperature': 0.7}, 'parent_ids': ['16658c30-d9f6-4489-ab5c-e16be987ca37', '5bb18e61-3a1d-4056-9a7f-f9850b1a5ee8']}\n",
      "{'event': 'on_chat_model_stream', 'data': {'chunk': AIMessageChunk(content=' bats', additional_kwargs={}, response_metadata={}, id='run--6ac16989-70fa-49b9-af1c-5f741bb13837')}, 'run_id': '6ac16989-70fa-49b9-af1c-5f741bb13837', 'name': 'ChatGroq', 'tags': ['seq:step:1'], 'metadata': {'thread_id': '5', 'langgraph_step': 1, 'langgraph_node': 'SuperBot', 'langgraph_triggers': ('branch:to:SuperBot',), 'langgraph_path': ('__pregel_pull', 'SuperBot'), 'langgraph_checkpoint_ns': 'SuperBot:eaa28876-ecf1-051e-52c6-7b5f2efa6790', 'checkpoint_ns': 'SuperBot:eaa28876-ecf1-051e-52c6-7b5f2efa6790', 'ls_provider': 'groq', 'ls_model_name': 'llama3-8b-8192', 'ls_model_type': 'chat', 'ls_temperature': 0.7}, 'parent_ids': ['16658c30-d9f6-4489-ab5c-e16be987ca37', '5bb18e61-3a1d-4056-9a7f-f9850b1a5ee8']}\n",
      "{'event': 'on_chat_model_stream', 'data': {'chunk': AIMessageChunk(content='man', additional_kwargs={}, response_metadata={}, id='run--6ac16989-70fa-49b9-af1c-5f741bb13837')}, 'run_id': '6ac16989-70fa-49b9-af1c-5f741bb13837', 'name': 'ChatGroq', 'tags': ['seq:step:1'], 'metadata': {'thread_id': '5', 'langgraph_step': 1, 'langgraph_node': 'SuperBot', 'langgraph_triggers': ('branch:to:SuperBot',), 'langgraph_path': ('__pregel_pull', 'SuperBot'), 'langgraph_checkpoint_ns': 'SuperBot:eaa28876-ecf1-051e-52c6-7b5f2efa6790', 'checkpoint_ns': 'SuperBot:eaa28876-ecf1-051e-52c6-7b5f2efa6790', 'ls_provider': 'groq', 'ls_model_name': 'llama3-8b-8192', 'ls_model_type': 'chat', 'ls_temperature': 0.7}, 'parent_ids': ['16658c30-d9f6-4489-ab5c-e16be987ca37', '5bb18e61-3a1d-4056-9a7f-f9850b1a5ee8']}\n",
      "{'event': 'on_chat_model_stream', 'data': {'chunk': AIMessageChunk(content=',', additional_kwargs={}, response_metadata={}, id='run--6ac16989-70fa-49b9-af1c-5f741bb13837')}, 'run_id': '6ac16989-70fa-49b9-af1c-5f741bb13837', 'name': 'ChatGroq', 'tags': ['seq:step:1'], 'metadata': {'thread_id': '5', 'langgraph_step': 1, 'langgraph_node': 'SuperBot', 'langgraph_triggers': ('branch:to:SuperBot',), 'langgraph_path': ('__pregel_pull', 'SuperBot'), 'langgraph_checkpoint_ns': 'SuperBot:eaa28876-ecf1-051e-52c6-7b5f2efa6790', 'checkpoint_ns': 'SuperBot:eaa28876-ecf1-051e-52c6-7b5f2efa6790', 'ls_provider': 'groq', 'ls_model_name': 'llama3-8b-8192', 'ls_model_type': 'chat', 'ls_temperature': 0.7}, 'parent_ids': ['16658c30-d9f6-4489-ab5c-e16be987ca37', '5bb18e61-3a1d-4056-9a7f-f9850b1a5ee8']}\n",
      "{'event': 'on_chat_model_stream', 'data': {'chunk': AIMessageChunk(content=' bow', additional_kwargs={}, response_metadata={}, id='run--6ac16989-70fa-49b9-af1c-5f741bb13837')}, 'run_id': '6ac16989-70fa-49b9-af1c-5f741bb13837', 'name': 'ChatGroq', 'tags': ['seq:step:1'], 'metadata': {'thread_id': '5', 'langgraph_step': 1, 'langgraph_node': 'SuperBot', 'langgraph_triggers': ('branch:to:SuperBot',), 'langgraph_path': ('__pregel_pull', 'SuperBot'), 'langgraph_checkpoint_ns': 'SuperBot:eaa28876-ecf1-051e-52c6-7b5f2efa6790', 'checkpoint_ns': 'SuperBot:eaa28876-ecf1-051e-52c6-7b5f2efa6790', 'ls_provider': 'groq', 'ls_model_name': 'llama3-8b-8192', 'ls_model_type': 'chat', 'ls_temperature': 0.7}, 'parent_ids': ['16658c30-d9f6-4489-ab5c-e16be987ca37', '5bb18e61-3a1d-4056-9a7f-f9850b1a5ee8']}\n",
      "{'event': 'on_chat_model_stream', 'data': {'chunk': AIMessageChunk(content='ler', additional_kwargs={}, response_metadata={}, id='run--6ac16989-70fa-49b9-af1c-5f741bb13837')}, 'run_id': '6ac16989-70fa-49b9-af1c-5f741bb13837', 'name': 'ChatGroq', 'tags': ['seq:step:1'], 'metadata': {'thread_id': '5', 'langgraph_step': 1, 'langgraph_node': 'SuperBot', 'langgraph_triggers': ('branch:to:SuperBot',), 'langgraph_path': ('__pregel_pull', 'SuperBot'), 'langgraph_checkpoint_ns': 'SuperBot:eaa28876-ecf1-051e-52c6-7b5f2efa6790', 'checkpoint_ns': 'SuperBot:eaa28876-ecf1-051e-52c6-7b5f2efa6790', 'ls_provider': 'groq', 'ls_model_name': 'llama3-8b-8192', 'ls_model_type': 'chat', 'ls_temperature': 0.7}, 'parent_ids': ['16658c30-d9f6-4489-ab5c-e16be987ca37', '5bb18e61-3a1d-4056-9a7f-f9850b1a5ee8']}\n",
      "{'event': 'on_chat_model_stream', 'data': {'chunk': AIMessageChunk(content=',', additional_kwargs={}, response_metadata={}, id='run--6ac16989-70fa-49b9-af1c-5f741bb13837')}, 'run_id': '6ac16989-70fa-49b9-af1c-5f741bb13837', 'name': 'ChatGroq', 'tags': ['seq:step:1'], 'metadata': {'thread_id': '5', 'langgraph_step': 1, 'langgraph_node': 'SuperBot', 'langgraph_triggers': ('branch:to:SuperBot',), 'langgraph_path': ('__pregel_pull', 'SuperBot'), 'langgraph_checkpoint_ns': 'SuperBot:eaa28876-ecf1-051e-52c6-7b5f2efa6790', 'checkpoint_ns': 'SuperBot:eaa28876-ecf1-051e-52c6-7b5f2efa6790', 'ls_provider': 'groq', 'ls_model_name': 'llama3-8b-8192', 'ls_model_type': 'chat', 'ls_temperature': 0.7}, 'parent_ids': ['16658c30-d9f6-4489-ab5c-e16be987ca37', '5bb18e61-3a1d-4056-9a7f-f9850b1a5ee8']}\n",
      "{'event': 'on_chat_model_stream', 'data': {'chunk': AIMessageChunk(content=' or', additional_kwargs={}, response_metadata={}, id='run--6ac16989-70fa-49b9-af1c-5f741bb13837')}, 'run_id': '6ac16989-70fa-49b9-af1c-5f741bb13837', 'name': 'ChatGroq', 'tags': ['seq:step:1'], 'metadata': {'thread_id': '5', 'langgraph_step': 1, 'langgraph_node': 'SuperBot', 'langgraph_triggers': ('branch:to:SuperBot',), 'langgraph_path': ('__pregel_pull', 'SuperBot'), 'langgraph_checkpoint_ns': 'SuperBot:eaa28876-ecf1-051e-52c6-7b5f2efa6790', 'checkpoint_ns': 'SuperBot:eaa28876-ecf1-051e-52c6-7b5f2efa6790', 'ls_provider': 'groq', 'ls_model_name': 'llama3-8b-8192', 'ls_model_type': 'chat', 'ls_temperature': 0.7}, 'parent_ids': ['16658c30-d9f6-4489-ab5c-e16be987ca37', '5bb18e61-3a1d-4056-9a7f-f9850b1a5ee8']}\n",
      "{'event': 'on_chat_model_stream', 'data': {'chunk': AIMessageChunk(content=' all', additional_kwargs={}, response_metadata={}, id='run--6ac16989-70fa-49b9-af1c-5f741bb13837')}, 'run_id': '6ac16989-70fa-49b9-af1c-5f741bb13837', 'name': 'ChatGroq', 'tags': ['seq:step:1'], 'metadata': {'thread_id': '5', 'langgraph_step': 1, 'langgraph_node': 'SuperBot', 'langgraph_triggers': ('branch:to:SuperBot',), 'langgraph_path': ('__pregel_pull', 'SuperBot'), 'langgraph_checkpoint_ns': 'SuperBot:eaa28876-ecf1-051e-52c6-7b5f2efa6790', 'checkpoint_ns': 'SuperBot:eaa28876-ecf1-051e-52c6-7b5f2efa6790', 'ls_provider': 'groq', 'ls_model_name': 'llama3-8b-8192', 'ls_model_type': 'chat', 'ls_temperature': 0.7}, 'parent_ids': ['16658c30-d9f6-4489-ab5c-e16be987ca37', '5bb18e61-3a1d-4056-9a7f-f9850b1a5ee8']}\n",
      "{'event': 'on_chat_model_stream', 'data': {'chunk': AIMessageChunk(content='-', additional_kwargs={}, response_metadata={}, id='run--6ac16989-70fa-49b9-af1c-5f741bb13837')}, 'run_id': '6ac16989-70fa-49b9-af1c-5f741bb13837', 'name': 'ChatGroq', 'tags': ['seq:step:1'], 'metadata': {'thread_id': '5', 'langgraph_step': 1, 'langgraph_node': 'SuperBot', 'langgraph_triggers': ('branch:to:SuperBot',), 'langgraph_path': ('__pregel_pull', 'SuperBot'), 'langgraph_checkpoint_ns': 'SuperBot:eaa28876-ecf1-051e-52c6-7b5f2efa6790', 'checkpoint_ns': 'SuperBot:eaa28876-ecf1-051e-52c6-7b5f2efa6790', 'ls_provider': 'groq', 'ls_model_name': 'llama3-8b-8192', 'ls_model_type': 'chat', 'ls_temperature': 0.7}, 'parent_ids': ['16658c30-d9f6-4489-ab5c-e16be987ca37', '5bb18e61-3a1d-4056-9a7f-f9850b1a5ee8']}\n",
      "{'event': 'on_chat_model_stream', 'data': {'chunk': AIMessageChunk(content='rou', additional_kwargs={}, response_metadata={}, id='run--6ac16989-70fa-49b9-af1c-5f741bb13837')}, 'run_id': '6ac16989-70fa-49b9-af1c-5f741bb13837', 'name': 'ChatGroq', 'tags': ['seq:step:1'], 'metadata': {'thread_id': '5', 'langgraph_step': 1, 'langgraph_node': 'SuperBot', 'langgraph_triggers': ('branch:to:SuperBot',), 'langgraph_path': ('__pregel_pull', 'SuperBot'), 'langgraph_checkpoint_ns': 'SuperBot:eaa28876-ecf1-051e-52c6-7b5f2efa6790', 'checkpoint_ns': 'SuperBot:eaa28876-ecf1-051e-52c6-7b5f2efa6790', 'ls_provider': 'groq', 'ls_model_name': 'llama3-8b-8192', 'ls_model_type': 'chat', 'ls_temperature': 0.7}, 'parent_ids': ['16658c30-d9f6-4489-ab5c-e16be987ca37', '5bb18e61-3a1d-4056-9a7f-f9850b1a5ee8']}\n",
      "{'event': 'on_chat_model_stream', 'data': {'chunk': AIMessageChunk(content='nder', additional_kwargs={}, response_metadata={}, id='run--6ac16989-70fa-49b9-af1c-5f741bb13837')}, 'run_id': '6ac16989-70fa-49b9-af1c-5f741bb13837', 'name': 'ChatGroq', 'tags': ['seq:step:1'], 'metadata': {'thread_id': '5', 'langgraph_step': 1, 'langgraph_node': 'SuperBot', 'langgraph_triggers': ('branch:to:SuperBot',), 'langgraph_path': ('__pregel_pull', 'SuperBot'), 'langgraph_checkpoint_ns': 'SuperBot:eaa28876-ecf1-051e-52c6-7b5f2efa6790', 'checkpoint_ns': 'SuperBot:eaa28876-ecf1-051e-52c6-7b5f2efa6790', 'ls_provider': 'groq', 'ls_model_name': 'llama3-8b-8192', 'ls_model_type': 'chat', 'ls_temperature': 0.7}, 'parent_ids': ['16658c30-d9f6-4489-ab5c-e16be987ca37', '5bb18e61-3a1d-4056-9a7f-f9850b1a5ee8']}\n",
      "{'event': 'on_chat_model_stream', 'data': {'chunk': AIMessageChunk(content='?', additional_kwargs={}, response_metadata={}, id='run--6ac16989-70fa-49b9-af1c-5f741bb13837')}, 'run_id': '6ac16989-70fa-49b9-af1c-5f741bb13837', 'name': 'ChatGroq', 'tags': ['seq:step:1'], 'metadata': {'thread_id': '5', 'langgraph_step': 1, 'langgraph_node': 'SuperBot', 'langgraph_triggers': ('branch:to:SuperBot',), 'langgraph_path': ('__pregel_pull', 'SuperBot'), 'langgraph_checkpoint_ns': 'SuperBot:eaa28876-ecf1-051e-52c6-7b5f2efa6790', 'checkpoint_ns': 'SuperBot:eaa28876-ecf1-051e-52c6-7b5f2efa6790', 'ls_provider': 'groq', 'ls_model_name': 'llama3-8b-8192', 'ls_model_type': 'chat', 'ls_temperature': 0.7}, 'parent_ids': ['16658c30-d9f6-4489-ab5c-e16be987ca37', '5bb18e61-3a1d-4056-9a7f-f9850b1a5ee8']}\n",
      "{'event': 'on_chat_model_stream', 'data': {'chunk': AIMessageChunk(content=' Do', additional_kwargs={}, response_metadata={}, id='run--6ac16989-70fa-49b9-af1c-5f741bb13837')}, 'run_id': '6ac16989-70fa-49b9-af1c-5f741bb13837', 'name': 'ChatGroq', 'tags': ['seq:step:1'], 'metadata': {'thread_id': '5', 'langgraph_step': 1, 'langgraph_node': 'SuperBot', 'langgraph_triggers': ('branch:to:SuperBot',), 'langgraph_path': ('__pregel_pull', 'SuperBot'), 'langgraph_checkpoint_ns': 'SuperBot:eaa28876-ecf1-051e-52c6-7b5f2efa6790', 'checkpoint_ns': 'SuperBot:eaa28876-ecf1-051e-52c6-7b5f2efa6790', 'ls_provider': 'groq', 'ls_model_name': 'llama3-8b-8192', 'ls_model_type': 'chat', 'ls_temperature': 0.7}, 'parent_ids': ['16658c30-d9f6-4489-ab5c-e16be987ca37', '5bb18e61-3a1d-4056-9a7f-f9850b1a5ee8']}\n",
      "{'event': 'on_chat_model_stream', 'data': {'chunk': AIMessageChunk(content=' you', additional_kwargs={}, response_metadata={}, id='run--6ac16989-70fa-49b9-af1c-5f741bb13837')}, 'run_id': '6ac16989-70fa-49b9-af1c-5f741bb13837', 'name': 'ChatGroq', 'tags': ['seq:step:1'], 'metadata': {'thread_id': '5', 'langgraph_step': 1, 'langgraph_node': 'SuperBot', 'langgraph_triggers': ('branch:to:SuperBot',), 'langgraph_path': ('__pregel_pull', 'SuperBot'), 'langgraph_checkpoint_ns': 'SuperBot:eaa28876-ecf1-051e-52c6-7b5f2efa6790', 'checkpoint_ns': 'SuperBot:eaa28876-ecf1-051e-52c6-7b5f2efa6790', 'ls_provider': 'groq', 'ls_model_name': 'llama3-8b-8192', 'ls_model_type': 'chat', 'ls_temperature': 0.7}, 'parent_ids': ['16658c30-d9f6-4489-ab5c-e16be987ca37', '5bb18e61-3a1d-4056-9a7f-f9850b1a5ee8']}\n",
      "{'event': 'on_chat_model_stream', 'data': {'chunk': AIMessageChunk(content=' have', additional_kwargs={}, response_metadata={}, id='run--6ac16989-70fa-49b9-af1c-5f741bb13837')}, 'run_id': '6ac16989-70fa-49b9-af1c-5f741bb13837', 'name': 'ChatGroq', 'tags': ['seq:step:1'], 'metadata': {'thread_id': '5', 'langgraph_step': 1, 'langgraph_node': 'SuperBot', 'langgraph_triggers': ('branch:to:SuperBot',), 'langgraph_path': ('__pregel_pull', 'SuperBot'), 'langgraph_checkpoint_ns': 'SuperBot:eaa28876-ecf1-051e-52c6-7b5f2efa6790', 'checkpoint_ns': 'SuperBot:eaa28876-ecf1-051e-52c6-7b5f2efa6790', 'ls_provider': 'groq', 'ls_model_name': 'llama3-8b-8192', 'ls_model_type': 'chat', 'ls_temperature': 0.7}, 'parent_ids': ['16658c30-d9f6-4489-ab5c-e16be987ca37', '5bb18e61-3a1d-4056-9a7f-f9850b1a5ee8']}\n",
      "{'event': 'on_chat_model_stream', 'data': {'chunk': AIMessageChunk(content=' a', additional_kwargs={}, response_metadata={}, id='run--6ac16989-70fa-49b9-af1c-5f741bb13837')}, 'run_id': '6ac16989-70fa-49b9-af1c-5f741bb13837', 'name': 'ChatGroq', 'tags': ['seq:step:1'], 'metadata': {'thread_id': '5', 'langgraph_step': 1, 'langgraph_node': 'SuperBot', 'langgraph_triggers': ('branch:to:SuperBot',), 'langgraph_path': ('__pregel_pull', 'SuperBot'), 'langgraph_checkpoint_ns': 'SuperBot:eaa28876-ecf1-051e-52c6-7b5f2efa6790', 'checkpoint_ns': 'SuperBot:eaa28876-ecf1-051e-52c6-7b5f2efa6790', 'ls_provider': 'groq', 'ls_model_name': 'llama3-8b-8192', 'ls_model_type': 'chat', 'ls_temperature': 0.7}, 'parent_ids': ['16658c30-d9f6-4489-ab5c-e16be987ca37', '5bb18e61-3a1d-4056-9a7f-f9850b1a5ee8']}\n",
      "{'event': 'on_chat_model_stream', 'data': {'chunk': AIMessageChunk(content=' favorite', additional_kwargs={}, response_metadata={}, id='run--6ac16989-70fa-49b9-af1c-5f741bb13837')}, 'run_id': '6ac16989-70fa-49b9-af1c-5f741bb13837', 'name': 'ChatGroq', 'tags': ['seq:step:1'], 'metadata': {'thread_id': '5', 'langgraph_step': 1, 'langgraph_node': 'SuperBot', 'langgraph_triggers': ('branch:to:SuperBot',), 'langgraph_path': ('__pregel_pull', 'SuperBot'), 'langgraph_checkpoint_ns': 'SuperBot:eaa28876-ecf1-051e-52c6-7b5f2efa6790', 'checkpoint_ns': 'SuperBot:eaa28876-ecf1-051e-52c6-7b5f2efa6790', 'ls_provider': 'groq', 'ls_model_name': 'llama3-8b-8192', 'ls_model_type': 'chat', 'ls_temperature': 0.7}, 'parent_ids': ['16658c30-d9f6-4489-ab5c-e16be987ca37', '5bb18e61-3a1d-4056-9a7f-f9850b1a5ee8']}\n",
      "{'event': 'on_chat_model_stream', 'data': {'chunk': AIMessageChunk(content=' team', additional_kwargs={}, response_metadata={}, id='run--6ac16989-70fa-49b9-af1c-5f741bb13837')}, 'run_id': '6ac16989-70fa-49b9-af1c-5f741bb13837', 'name': 'ChatGroq', 'tags': ['seq:step:1'], 'metadata': {'thread_id': '5', 'langgraph_step': 1, 'langgraph_node': 'SuperBot', 'langgraph_triggers': ('branch:to:SuperBot',), 'langgraph_path': ('__pregel_pull', 'SuperBot'), 'langgraph_checkpoint_ns': 'SuperBot:eaa28876-ecf1-051e-52c6-7b5f2efa6790', 'checkpoint_ns': 'SuperBot:eaa28876-ecf1-051e-52c6-7b5f2efa6790', 'ls_provider': 'groq', 'ls_model_name': 'llama3-8b-8192', 'ls_model_type': 'chat', 'ls_temperature': 0.7}, 'parent_ids': ['16658c30-d9f6-4489-ab5c-e16be987ca37', '5bb18e61-3a1d-4056-9a7f-f9850b1a5ee8']}\n",
      "{'event': 'on_chat_model_stream', 'data': {'chunk': AIMessageChunk(content=' or', additional_kwargs={}, response_metadata={}, id='run--6ac16989-70fa-49b9-af1c-5f741bb13837')}, 'run_id': '6ac16989-70fa-49b9-af1c-5f741bb13837', 'name': 'ChatGroq', 'tags': ['seq:step:1'], 'metadata': {'thread_id': '5', 'langgraph_step': 1, 'langgraph_node': 'SuperBot', 'langgraph_triggers': ('branch:to:SuperBot',), 'langgraph_path': ('__pregel_pull', 'SuperBot'), 'langgraph_checkpoint_ns': 'SuperBot:eaa28876-ecf1-051e-52c6-7b5f2efa6790', 'checkpoint_ns': 'SuperBot:eaa28876-ecf1-051e-52c6-7b5f2efa6790', 'ls_provider': 'groq', 'ls_model_name': 'llama3-8b-8192', 'ls_model_type': 'chat', 'ls_temperature': 0.7}, 'parent_ids': ['16658c30-d9f6-4489-ab5c-e16be987ca37', '5bb18e61-3a1d-4056-9a7f-f9850b1a5ee8']}\n",
      "{'event': 'on_chat_model_stream', 'data': {'chunk': AIMessageChunk(content=' player', additional_kwargs={}, response_metadata={}, id='run--6ac16989-70fa-49b9-af1c-5f741bb13837')}, 'run_id': '6ac16989-70fa-49b9-af1c-5f741bb13837', 'name': 'ChatGroq', 'tags': ['seq:step:1'], 'metadata': {'thread_id': '5', 'langgraph_step': 1, 'langgraph_node': 'SuperBot', 'langgraph_triggers': ('branch:to:SuperBot',), 'langgraph_path': ('__pregel_pull', 'SuperBot'), 'langgraph_checkpoint_ns': 'SuperBot:eaa28876-ecf1-051e-52c6-7b5f2efa6790', 'checkpoint_ns': 'SuperBot:eaa28876-ecf1-051e-52c6-7b5f2efa6790', 'ls_provider': 'groq', 'ls_model_name': 'llama3-8b-8192', 'ls_model_type': 'chat', 'ls_temperature': 0.7}, 'parent_ids': ['16658c30-d9f6-4489-ab5c-e16be987ca37', '5bb18e61-3a1d-4056-9a7f-f9850b1a5ee8']}\n",
      "{'event': 'on_chat_model_stream', 'data': {'chunk': AIMessageChunk(content='?', additional_kwargs={}, response_metadata={}, id='run--6ac16989-70fa-49b9-af1c-5f741bb13837')}, 'run_id': '6ac16989-70fa-49b9-af1c-5f741bb13837', 'name': 'ChatGroq', 'tags': ['seq:step:1'], 'metadata': {'thread_id': '5', 'langgraph_step': 1, 'langgraph_node': 'SuperBot', 'langgraph_triggers': ('branch:to:SuperBot',), 'langgraph_path': ('__pregel_pull', 'SuperBot'), 'langgraph_checkpoint_ns': 'SuperBot:eaa28876-ecf1-051e-52c6-7b5f2efa6790', 'checkpoint_ns': 'SuperBot:eaa28876-ecf1-051e-52c6-7b5f2efa6790', 'ls_provider': 'groq', 'ls_model_name': 'llama3-8b-8192', 'ls_model_type': 'chat', 'ls_temperature': 0.7}, 'parent_ids': ['16658c30-d9f6-4489-ab5c-e16be987ca37', '5bb18e61-3a1d-4056-9a7f-f9850b1a5ee8']}\n",
      "{'event': 'on_chat_model_stream', 'data': {'chunk': AIMessageChunk(content='', additional_kwargs={}, response_metadata={'finish_reason': 'stop', 'model_name': 'llama3-8b-8192', 'system_fingerprint': 'fp_8dc6ecaf8e'}, id='run--6ac16989-70fa-49b9-af1c-5f741bb13837', usage_metadata={'input_tokens': 21, 'output_tokens': 45, 'total_tokens': 66})}, 'run_id': '6ac16989-70fa-49b9-af1c-5f741bb13837', 'name': 'ChatGroq', 'tags': ['seq:step:1'], 'metadata': {'thread_id': '5', 'langgraph_step': 1, 'langgraph_node': 'SuperBot', 'langgraph_triggers': ('branch:to:SuperBot',), 'langgraph_path': ('__pregel_pull', 'SuperBot'), 'langgraph_checkpoint_ns': 'SuperBot:eaa28876-ecf1-051e-52c6-7b5f2efa6790', 'checkpoint_ns': 'SuperBot:eaa28876-ecf1-051e-52c6-7b5f2efa6790', 'ls_provider': 'groq', 'ls_model_name': 'llama3-8b-8192', 'ls_model_type': 'chat', 'ls_temperature': 0.7}, 'parent_ids': ['16658c30-d9f6-4489-ab5c-e16be987ca37', '5bb18e61-3a1d-4056-9a7f-f9850b1a5ee8']}\n",
      "{'event': 'on_chat_model_end', 'data': {'output': AIMessage(content=\"Hi Krish! That's awesome! Cricket is a fantastic sport. Which role do you prefer to play in cricket - batsman, bowler, or all-rounder? Do you have a favorite team or player?\", additional_kwargs={}, response_metadata={'finish_reason': 'stop', 'model_name': 'llama3-8b-8192', 'system_fingerprint': 'fp_8dc6ecaf8e'}, id='run--6ac16989-70fa-49b9-af1c-5f741bb13837', usage_metadata={'input_tokens': 21, 'output_tokens': 45, 'total_tokens': 66}), 'input': {'messages': [[HumanMessage(content='Hi My name is Krish and I like to play cricket', additional_kwargs={}, response_metadata={}, id='70e90418-5ef9-4759-91c6-2f6e1732d63f')]]}}, 'run_id': '6ac16989-70fa-49b9-af1c-5f741bb13837', 'name': 'ChatGroq', 'tags': ['seq:step:1'], 'metadata': {'thread_id': '5', 'langgraph_step': 1, 'langgraph_node': 'SuperBot', 'langgraph_triggers': ('branch:to:SuperBot',), 'langgraph_path': ('__pregel_pull', 'SuperBot'), 'langgraph_checkpoint_ns': 'SuperBot:eaa28876-ecf1-051e-52c6-7b5f2efa6790', 'checkpoint_ns': 'SuperBot:eaa28876-ecf1-051e-52c6-7b5f2efa6790', 'ls_provider': 'groq', 'ls_model_name': 'llama3-8b-8192', 'ls_model_type': 'chat', 'ls_temperature': 0.7, 'revision_id': 'd7a47f4-dirty'}, 'parent_ids': ['16658c30-d9f6-4489-ab5c-e16be987ca37', '5bb18e61-3a1d-4056-9a7f-f9850b1a5ee8']}\n",
      "{'event': 'on_chain_stream', 'run_id': '5bb18e61-3a1d-4056-9a7f-f9850b1a5ee8', 'name': 'SuperBot', 'tags': ['graph:step:1'], 'metadata': {'thread_id': '5', 'langgraph_step': 1, 'langgraph_node': 'SuperBot', 'langgraph_triggers': ('branch:to:SuperBot',), 'langgraph_path': ('__pregel_pull', 'SuperBot'), 'langgraph_checkpoint_ns': 'SuperBot:eaa28876-ecf1-051e-52c6-7b5f2efa6790'}, 'data': {'chunk': {'messages': [AIMessage(content=\"Hi Krish! That's awesome! Cricket is a fantastic sport. Which role do you prefer to play in cricket - batsman, bowler, or all-rounder? Do you have a favorite team or player?\", additional_kwargs={}, response_metadata={'finish_reason': 'stop', 'model_name': 'llama3-8b-8192', 'system_fingerprint': 'fp_8dc6ecaf8e'}, id='run--6ac16989-70fa-49b9-af1c-5f741bb13837', usage_metadata={'input_tokens': 21, 'output_tokens': 45, 'total_tokens': 66})]}}, 'parent_ids': ['16658c30-d9f6-4489-ab5c-e16be987ca37']}\n",
      "{'event': 'on_chain_end', 'data': {'output': {'messages': [AIMessage(content=\"Hi Krish! That's awesome! Cricket is a fantastic sport. Which role do you prefer to play in cricket - batsman, bowler, or all-rounder? Do you have a favorite team or player?\", additional_kwargs={}, response_metadata={'finish_reason': 'stop', 'model_name': 'llama3-8b-8192', 'system_fingerprint': 'fp_8dc6ecaf8e'}, id='run--6ac16989-70fa-49b9-af1c-5f741bb13837', usage_metadata={'input_tokens': 21, 'output_tokens': 45, 'total_tokens': 66})]}, 'input': {'messages': [HumanMessage(content='Hi My name is Krish and I like to play cricket', additional_kwargs={}, response_metadata={}, id='70e90418-5ef9-4759-91c6-2f6e1732d63f')]}}, 'run_id': '5bb18e61-3a1d-4056-9a7f-f9850b1a5ee8', 'name': 'SuperBot', 'tags': ['graph:step:1'], 'metadata': {'thread_id': '5', 'langgraph_step': 1, 'langgraph_node': 'SuperBot', 'langgraph_triggers': ('branch:to:SuperBot',), 'langgraph_path': ('__pregel_pull', 'SuperBot'), 'langgraph_checkpoint_ns': 'SuperBot:eaa28876-ecf1-051e-52c6-7b5f2efa6790', 'revision_id': 'd7a47f4-dirty'}, 'parent_ids': ['16658c30-d9f6-4489-ab5c-e16be987ca37']}\n",
      "{'event': 'on_chain_stream', 'run_id': '16658c30-d9f6-4489-ab5c-e16be987ca37', 'name': 'LangGraph', 'tags': [], 'metadata': {'thread_id': '5', 'revision_id': 'd7a47f4-dirty'}, 'data': {'chunk': {'SuperBot': {'messages': [AIMessage(content=\"Hi Krish! That's awesome! Cricket is a fantastic sport. Which role do you prefer to play in cricket - batsman, bowler, or all-rounder? Do you have a favorite team or player?\", additional_kwargs={}, response_metadata={'finish_reason': 'stop', 'model_name': 'llama3-8b-8192', 'system_fingerprint': 'fp_8dc6ecaf8e'}, id='run--6ac16989-70fa-49b9-af1c-5f741bb13837', usage_metadata={'input_tokens': 21, 'output_tokens': 45, 'total_tokens': 66})]}}}, 'parent_ids': []}\n",
      "{'event': 'on_chain_end', 'data': {'output': {'messages': [HumanMessage(content='Hi My name is Krish and I like to play cricket', additional_kwargs={}, response_metadata={}, id='70e90418-5ef9-4759-91c6-2f6e1732d63f'), AIMessage(content=\"Hi Krish! That's awesome! Cricket is a fantastic sport. Which role do you prefer to play in cricket - batsman, bowler, or all-rounder? Do you have a favorite team or player?\", additional_kwargs={}, response_metadata={'finish_reason': 'stop', 'model_name': 'llama3-8b-8192', 'system_fingerprint': 'fp_8dc6ecaf8e'}, id='run--6ac16989-70fa-49b9-af1c-5f741bb13837', usage_metadata={'input_tokens': 21, 'output_tokens': 45, 'total_tokens': 66})]}}, 'run_id': '16658c30-d9f6-4489-ab5c-e16be987ca37', 'name': 'LangGraph', 'tags': [], 'metadata': {'thread_id': '5', 'revision_id': 'd7a47f4-dirty'}, 'parent_ids': []}\n"
     ]
    }
   ],
   "source": [
    "config = {\"configurable\": {\"thread_id\": \"5\"}}\n",
    "\n",
    "async for event in graph_builder.astream_events({\"messages\":[\"Hi My name is Krish and I like to play cricket\"]},config,version=\"v2\"):\n",
    "    print(event)"
   ]
  },
  {
   "cell_type": "code",
   "execution_count": null,
   "id": "b4326d9b",
   "metadata": {},
   "outputs": [],
   "source": []
  }
 ],
 "metadata": {
  "kernelspec": {
   "display_name": "agent",
   "language": "python",
   "name": "python3"
  },
  "language_info": {
   "codemirror_mode": {
    "name": "ipython",
    "version": 3
   },
   "file_extension": ".py",
   "mimetype": "text/x-python",
   "name": "python",
   "nbconvert_exporter": "python",
   "pygments_lexer": "ipython3",
   "version": "3.13.3"
  }
 },
 "nbformat": 4,
 "nbformat_minor": 5
}
